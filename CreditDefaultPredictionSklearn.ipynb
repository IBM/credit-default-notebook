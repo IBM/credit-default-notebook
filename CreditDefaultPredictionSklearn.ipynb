{
 "cells": [
  {
   "cell_type": "markdown",
   "metadata": {},
   "source": [
    "<h1><center> IBM® LinuxONE Data and AI: Credit Default Risk Analysis using scikit-learn </center></h1>"
   ]
  },
  {
   "cell_type": "markdown",
   "metadata": {},
   "source": [
    "Financial organizations around the world face the constant challenge to accurately predict the risk of credit default. This covers all aspects of financial lending, including personal, corporate and public finance. To enhance and automate this process, great interest has been placed on the usage of data science and machine learning to predict the customers most likely to default. These lending processes mainly run on an institution's core business systems, with IBM Z and LinuxONE providing the industry standard platform for security, resiliency and scalability. With Anaconda on IBM Z and LinuxONE a customer can run their machine learning model co-located to their key processes, without the need to move data off the platform, ensuring security and data currency. To that end, we have created an example credit default model leveraging python and conda with Linux on Z.\n",
    "\n",
    "In this example we will train a Logistic Regression model on customers' credit history dataset using scikit-learn.\n",
    "\n",
    "NOTE: This notebook is a based on the original notebook available at https://github.com/ibmsoe/snap-ml/blob/master/notebooks/credit-default-prediction-example.ipynb"
   ]
  },
  {
   "cell_type": "code",
   "execution_count": 1,
   "metadata": {},
   "outputs": [],
   "source": [
    "#Installation instructions for Anaconda on Linux on Z and LinuxONE can be found here: https://docs.anaconda.com/anaconda/install/linux-s390x/"
   ]
  },
  {
   "cell_type": "markdown",
   "metadata": {},
   "source": [
    "### Download dataset that has the customer information\n",
    "\n",
    "The dataset contains 10 million transactions with 19 variables.\n",
    "\n",
    "You can comment out the downloading code below if running the same wget command more than once."
   ]
  },
  {
   "cell_type": "code",
   "execution_count": 2,
   "metadata": {},
   "outputs": [],
   "source": [
    "# Download dataset csv file\n",
    "#!wget -O credit_customer_history.csv -nc https://ibm.box.com/shared/static/c84jns0hy2ty05t3c3a9c17ca1mxpe6s.csv"
   ]
  },
  {
   "cell_type": "code",
   "execution_count": 3,
   "metadata": {},
   "outputs": [
    {
     "name": "stdout",
     "output_type": "stream",
     "text": [
      "s390x GNU/Linux\r\n"
     ]
    }
   ],
   "source": [
    "!uname -om"
   ]
  },
  {
   "cell_type": "markdown",
   "metadata": {},
   "source": [
    "### Install the necessary conda packages "
   ]
  },
  {
   "cell_type": "code",
   "execution_count": 4,
   "metadata": {},
   "outputs": [],
   "source": [
    "#!conda install -y scikit-learn pandas matplotlib seaborn"
   ]
  },
  {
   "cell_type": "markdown",
   "metadata": {},
   "source": [
    "### Import statements for data science and related packages "
   ]
  },
  {
   "cell_type": "code",
   "execution_count": 5,
   "metadata": {},
   "outputs": [],
   "source": [
    "from __future__ import print_function\n",
    "import numpy as np   # multi-dimensional arrays , matrices , linear algebra and others\n",
    "import pandas as pd  # data manipulation and analysis\n",
    "pd.options.display.max_columns = 999\n",
    "import matplotlib.pyplot as plt # static, animated, and interactive data visualizations \n",
    "%matplotlib inline\n",
    "import sklearn        # Data preparation, train and score\n",
    "import seaborn as sns # Data visualization library for statistical graphics plotting\n",
    "from sklearn.model_selection import train_test_split, StratifiedKFold\n",
    "from sklearn.preprocessing import MinMaxScaler, LabelEncoder, normalize\n",
    "from sklearn.ensemble import RandomForestClassifier\n",
    "from sklearn.metrics import f1_score, accuracy_score, roc_curve, roc_auc_score\n",
    "from scipy.stats import chi2_contingency,ttest_ind\n",
    "from sklearn.utils import shuffle\n",
    "import time\n",
    "\n",
    "import warnings\n",
    "warnings.filterwarnings('ignore')\n"
   ]
  },
  {
   "cell_type": "code",
   "execution_count": 6,
   "metadata": {},
   "outputs": [
    {
     "data": {
      "application/javascript": [
       "IPython.OutputArea.prototype._should_scroll = function(lines) {\n",
       "    return false;\n",
       "}\n"
      ],
      "text/plain": [
       "<IPython.core.display.Javascript object>"
      ]
     },
     "metadata": {},
     "output_type": "display_data"
    }
   ],
   "source": [
    "%%javascript\n",
    "IPython.OutputArea.prototype._should_scroll = function(lines) {\n",
    "    return false;\n",
    "}\n"
   ]
  },
  {
   "cell_type": "markdown",
   "metadata": {},
   "source": [
    "## Exploratory Data Analysis (EDA)\n",
    "\n",
    "\n",
    "As part of the EDA we will conduct the following exploration below:  \n",
    "1) We would like to see if there are any null values present in the dataset to ensure no imputation. \n",
    "2) Our target varible is IS_DEFAULT, and we would like to understand its distribution. \n",
    "3) Then we will look into the distribution of a few select features and their relationship to the target varaible.\n"
   ]
  },
  {
   "cell_type": "markdown",
   "metadata": {},
   "source": [
    "Let's take a quick look at the dataset"
   ]
  },
  {
   "cell_type": "code",
   "execution_count": 7,
   "metadata": {
    "scrolled": true
   },
   "outputs": [
    {
     "name": "stdout",
     "output_type": "stream",
     "text": [
      "There are 10000000 observations in the customer history dataset.\n",
      "There are 19 variables in the dataset.\n"
     ]
    },
    {
     "data": {
      "text/html": [
       "<div>\n",
       "<style scoped>\n",
       "    .dataframe tbody tr th:only-of-type {\n",
       "        vertical-align: middle;\n",
       "    }\n",
       "\n",
       "    .dataframe tbody tr th {\n",
       "        vertical-align: top;\n",
       "    }\n",
       "\n",
       "    .dataframe thead th {\n",
       "        text-align: right;\n",
       "    }\n",
       "</style>\n",
       "<table border=\"1\" class=\"dataframe\">\n",
       "  <thead>\n",
       "    <tr style=\"text-align: right;\">\n",
       "      <th></th>\n",
       "      <th>EMI_TENURE</th>\n",
       "      <th>CREDIT_HISTORY</th>\n",
       "      <th>TRANSACTION_CATEGORY</th>\n",
       "      <th>TRANSACTION_AMOUNT</th>\n",
       "      <th>ACCOUNT_TYPE</th>\n",
       "      <th>ACCOUNT_AGE</th>\n",
       "      <th>STATE</th>\n",
       "      <th>IS_URBAN</th>\n",
       "      <th>IS_STATE_BORDER</th>\n",
       "      <th>HAS_CO_APPLICANT</th>\n",
       "      <th>HAS_GUARANTOR</th>\n",
       "      <th>OWN_REAL_ESTATE</th>\n",
       "      <th>OTHER_INSTALMENT_PLAN</th>\n",
       "      <th>OWN_RESIDENCE</th>\n",
       "      <th>NUMBER_CREDITS</th>\n",
       "      <th>RFM_SCORE</th>\n",
       "      <th>OWN_CAR</th>\n",
       "      <th>SHIP_INTERNATIONAL</th>\n",
       "      <th>IS_DEFAULT</th>\n",
       "    </tr>\n",
       "  </thead>\n",
       "  <tbody>\n",
       "    <tr>\n",
       "      <th>0</th>\n",
       "      <td>77</td>\n",
       "      <td>EXISTING CREDITS PAID BACK</td>\n",
       "      <td>EDUCATION</td>\n",
       "      <td>27630</td>\n",
       "      <td>UNKNOWN/NONE</td>\n",
       "      <td>above 7 YRS</td>\n",
       "      <td>CT</td>\n",
       "      <td>NO</td>\n",
       "      <td>YES</td>\n",
       "      <td>YES</td>\n",
       "      <td>YES</td>\n",
       "      <td>NO</td>\n",
       "      <td>YES</td>\n",
       "      <td>NO</td>\n",
       "      <td>0</td>\n",
       "      <td>4</td>\n",
       "      <td>NO</td>\n",
       "      <td>NO</td>\n",
       "      <td>No</td>\n",
       "    </tr>\n",
       "    <tr>\n",
       "      <th>1</th>\n",
       "      <td>119</td>\n",
       "      <td>EXISTING CREDITS PAID BACK</td>\n",
       "      <td>ELECTRONICS</td>\n",
       "      <td>31314</td>\n",
       "      <td>above 1000 K USD</td>\n",
       "      <td>4 to 7 YRS</td>\n",
       "      <td>CT</td>\n",
       "      <td>YES</td>\n",
       "      <td>YES</td>\n",
       "      <td>YES</td>\n",
       "      <td>YES</td>\n",
       "      <td>NO</td>\n",
       "      <td>NO</td>\n",
       "      <td>YES</td>\n",
       "      <td>0</td>\n",
       "      <td>3</td>\n",
       "      <td>YES</td>\n",
       "      <td>YES</td>\n",
       "      <td>No</td>\n",
       "    </tr>\n",
       "    <tr>\n",
       "      <th>2</th>\n",
       "      <td>84</td>\n",
       "      <td>EXISTING CREDITS PAID BACK</td>\n",
       "      <td>FURNITURE</td>\n",
       "      <td>27630</td>\n",
       "      <td>above 1000 K USD</td>\n",
       "      <td>4 to 7 YRS</td>\n",
       "      <td>PA</td>\n",
       "      <td>NO</td>\n",
       "      <td>NO</td>\n",
       "      <td>YES</td>\n",
       "      <td>YES</td>\n",
       "      <td>YES</td>\n",
       "      <td>NO</td>\n",
       "      <td>YES</td>\n",
       "      <td>0</td>\n",
       "      <td>3</td>\n",
       "      <td>YES</td>\n",
       "      <td>YES</td>\n",
       "      <td>No</td>\n",
       "    </tr>\n",
       "    <tr>\n",
       "      <th>3</th>\n",
       "      <td>119</td>\n",
       "      <td>DELAY IN PAST</td>\n",
       "      <td>FURNITURE</td>\n",
       "      <td>33156</td>\n",
       "      <td>above 1000 K USD</td>\n",
       "      <td>up to 1 YR</td>\n",
       "      <td>PA</td>\n",
       "      <td>YES</td>\n",
       "      <td>NO</td>\n",
       "      <td>YES</td>\n",
       "      <td>NO</td>\n",
       "      <td>NO</td>\n",
       "      <td>NO</td>\n",
       "      <td>YES</td>\n",
       "      <td>0</td>\n",
       "      <td>3</td>\n",
       "      <td>NO</td>\n",
       "      <td>NO</td>\n",
       "      <td>Yes</td>\n",
       "    </tr>\n",
       "    <tr>\n",
       "      <th>4</th>\n",
       "      <td>105</td>\n",
       "      <td>DELAY IN PAST</td>\n",
       "      <td>FURNITURE</td>\n",
       "      <td>23946</td>\n",
       "      <td>above 1000 K USD</td>\n",
       "      <td>up to 1 YR</td>\n",
       "      <td>CT</td>\n",
       "      <td>NO</td>\n",
       "      <td>YES</td>\n",
       "      <td>YES</td>\n",
       "      <td>YES</td>\n",
       "      <td>YES</td>\n",
       "      <td>YES</td>\n",
       "      <td>NO</td>\n",
       "      <td>0</td>\n",
       "      <td>3</td>\n",
       "      <td>YES</td>\n",
       "      <td>YES</td>\n",
       "      <td>No</td>\n",
       "    </tr>\n",
       "  </tbody>\n",
       "</table>\n",
       "</div>"
      ],
      "text/plain": [
       "   EMI_TENURE              CREDIT_HISTORY TRANSACTION_CATEGORY  \\\n",
       "0          77  EXISTING CREDITS PAID BACK            EDUCATION   \n",
       "1         119  EXISTING CREDITS PAID BACK          ELECTRONICS   \n",
       "2          84  EXISTING CREDITS PAID BACK            FURNITURE   \n",
       "3         119               DELAY IN PAST            FURNITURE   \n",
       "4         105               DELAY IN PAST            FURNITURE   \n",
       "\n",
       "   TRANSACTION_AMOUNT      ACCOUNT_TYPE  ACCOUNT_AGE STATE IS_URBAN  \\\n",
       "0               27630      UNKNOWN/NONE  above 7 YRS    CT       NO   \n",
       "1               31314  above 1000 K USD   4 to 7 YRS    CT      YES   \n",
       "2               27630  above 1000 K USD   4 to 7 YRS    PA       NO   \n",
       "3               33156  above 1000 K USD   up to 1 YR    PA      YES   \n",
       "4               23946  above 1000 K USD   up to 1 YR    CT       NO   \n",
       "\n",
       "  IS_STATE_BORDER HAS_CO_APPLICANT HAS_GUARANTOR OWN_REAL_ESTATE  \\\n",
       "0             YES              YES           YES              NO   \n",
       "1             YES              YES           YES              NO   \n",
       "2              NO              YES           YES             YES   \n",
       "3              NO              YES            NO              NO   \n",
       "4             YES              YES           YES             YES   \n",
       "\n",
       "  OTHER_INSTALMENT_PLAN OWN_RESIDENCE  NUMBER_CREDITS  RFM_SCORE OWN_CAR  \\\n",
       "0                   YES            NO               0          4      NO   \n",
       "1                    NO           YES               0          3     YES   \n",
       "2                    NO           YES               0          3     YES   \n",
       "3                    NO           YES               0          3      NO   \n",
       "4                   YES            NO               0          3     YES   \n",
       "\n",
       "  SHIP_INTERNATIONAL IS_DEFAULT  \n",
       "0                 NO         No  \n",
       "1                YES         No  \n",
       "2                YES         No  \n",
       "3                 NO        Yes  \n",
       "4                YES         No  "
      ]
     },
     "execution_count": 7,
     "metadata": {},
     "output_type": "execute_result"
    }
   ],
   "source": [
    "cust_pd_full = pd.read_csv('credit_customer_history.csv')\n",
    "\n",
    "#Taking only 1 Million records for EDA.\n",
    "rows=1000000\n",
    "cust_pd = cust_pd_full.head(rows)\n",
    "print(\"There are \" + str(len(cust_pd_full)) + \" observations in the customer history dataset.\")\n",
    "print(\"There are \" + str(len(cust_pd_full.columns)) + \" variables in the dataset.\")\n",
    "\n",
    "cust_pd.head()"
   ]
  },
  {
   "cell_type": "code",
   "execution_count": 8,
   "metadata": {},
   "outputs": [
    {
     "name": "stdout",
     "output_type": "stream",
     "text": [
      "<class 'pandas.core.frame.DataFrame'>\n",
      "RangeIndex: 1000000 entries, 0 to 999999\n",
      "Data columns (total 19 columns):\n",
      " #   Column                 Non-Null Count    Dtype \n",
      "---  ------                 --------------    ----- \n",
      " 0   EMI_TENURE             1000000 non-null  int64 \n",
      " 1   CREDIT_HISTORY         1000000 non-null  object\n",
      " 2   TRANSACTION_CATEGORY   1000000 non-null  object\n",
      " 3   TRANSACTION_AMOUNT     1000000 non-null  int64 \n",
      " 4   ACCOUNT_TYPE           1000000 non-null  object\n",
      " 5   ACCOUNT_AGE            1000000 non-null  object\n",
      " 6   STATE                  1000000 non-null  object\n",
      " 7   IS_URBAN               1000000 non-null  object\n",
      " 8   IS_STATE_BORDER        1000000 non-null  object\n",
      " 9   HAS_CO_APPLICANT       1000000 non-null  object\n",
      " 10  HAS_GUARANTOR          1000000 non-null  object\n",
      " 11  OWN_REAL_ESTATE        1000000 non-null  object\n",
      " 12  OTHER_INSTALMENT_PLAN  1000000 non-null  object\n",
      " 13  OWN_RESIDENCE          1000000 non-null  object\n",
      " 14  NUMBER_CREDITS         1000000 non-null  int64 \n",
      " 15  RFM_SCORE              1000000 non-null  int64 \n",
      " 16  OWN_CAR                1000000 non-null  object\n",
      " 17  SHIP_INTERNATIONAL     1000000 non-null  object\n",
      " 18  IS_DEFAULT             1000000 non-null  object\n",
      "dtypes: int64(4), object(15)\n",
      "memory usage: 145.0+ MB\n"
     ]
    }
   ],
   "source": [
    "#the datatype of the features\n",
    "cust_pd.info()"
   ]
  },
  {
   "cell_type": "markdown",
   "metadata": {},
   "source": [
    "Let us see if there are any missing values in the dataset "
   ]
  },
  {
   "cell_type": "code",
   "execution_count": 9,
   "metadata": {},
   "outputs": [
    {
     "data": {
      "text/plain": [
       "EMI_TENURE               0\n",
       "CREDIT_HISTORY           0\n",
       "TRANSACTION_CATEGORY     0\n",
       "TRANSACTION_AMOUNT       0\n",
       "ACCOUNT_TYPE             0\n",
       "ACCOUNT_AGE              0\n",
       "STATE                    0\n",
       "IS_URBAN                 0\n",
       "IS_STATE_BORDER          0\n",
       "HAS_CO_APPLICANT         0\n",
       "HAS_GUARANTOR            0\n",
       "OWN_REAL_ESTATE          0\n",
       "OTHER_INSTALMENT_PLAN    0\n",
       "OWN_RESIDENCE            0\n",
       "NUMBER_CREDITS           0\n",
       "RFM_SCORE                0\n",
       "OWN_CAR                  0\n",
       "SHIP_INTERNATIONAL       0\n",
       "IS_DEFAULT               0\n",
       "dtype: int64"
      ]
     },
     "execution_count": 9,
     "metadata": {},
     "output_type": "execute_result"
    }
   ],
   "source": [
    "cust_pd.isnull().sum()"
   ]
  },
  {
   "cell_type": "markdown",
   "metadata": {},
   "source": [
    "Since there are no missing values in the dataset, let's move forward with dataset visualization. "
   ]
  },
  {
   "cell_type": "markdown",
   "metadata": {},
   "source": [
    "### Distribution of the Target variable (IS_DEFAULT) \n",
    "Create visuals to understand the percentage of accounts in default.   "
   ]
  },
  {
   "cell_type": "code",
   "execution_count": 10,
   "metadata": {},
   "outputs": [
    {
     "data": {
      "text/plain": [
       "<matplotlib.legend.Legend at 0x3ff44050310>"
      ]
     },
     "execution_count": 10,
     "metadata": {},
     "output_type": "execute_result"
    },
    {
     "data": {
      "image/png": "[encoded data removed]",
      "text/plain": [
       "<Figure size 432x288 with 1 Axes>"
      ]
     },
     "metadata": {},
     "output_type": "display_data"
    }
   ],
   "source": [
    "#Pie chart to show the percentage of accounts in default\n",
    "cust_pd.IS_DEFAULT.value_counts().plot(kind='pie',autopct='%1.0f%%').legend(bbox_to_anchor=(1.2, 0.6))"
   ]
  },
  {
   "cell_type": "markdown",
   "metadata": {},
   "source": [
    "In the dataset 70% of accounts are in good standing, while 30% are in default. "
   ]
  },
  {
   "cell_type": "markdown",
   "metadata": {
    "collapsed": true
   },
   "source": [
    "### Default by Credit Program (TRANSACTION_CATEGORY)\n",
    "\n",
    "As part of the EDA, we will examine the types of credit programs in the dataset, and conduct a comparative study of their individual default rates. "
   ]
  },
  {
   "cell_type": "code",
   "execution_count": 11,
   "metadata": {},
   "outputs": [
    {
     "data": {
      "text/plain": [
       "<matplotlib.legend.Legend at 0x3ff439ca370>"
      ]
     },
     "execution_count": 11,
     "metadata": {},
     "output_type": "execute_result"
    },
    {
     "data": {
      "image/png": "[encoded data removed]",
      "text/plain": [
       "<Figure size 432x288 with 1 Axes>"
      ]
     },
     "metadata": {},
     "output_type": "display_data"
    }
   ],
   "source": [
    "# Pie chart to show the percentage of accounts by Credit Program (TRANSACTION_CATEGORY)\n",
    "cust_pd.TRANSACTION_CATEGORY.value_counts().plot(kind='pie',autopct='%1.0f%%').legend(bbox_to_anchor=(1.2, 0.7))"
   ]
  },
  {
   "cell_type": "markdown",
   "metadata": {},
   "source": [
    "The top three credit programs with most customers are Furniture (57%), Education (21%) and Electronics (20%)."
   ]
  },
  {
   "cell_type": "code",
   "execution_count": 12,
   "metadata": {
    "pixiedust": {
     "displayParams": {
      "aggregation": "COUNT",
      "chartsize": "100",
      "handlerId": "pieChart",
      "keyFields": "IS_DEFAULT",
      "rowCount": "1000"
     }
    },
    "scrolled": true
   },
   "outputs": [
    {
     "data": {
      "text/plain": [
       "<matplotlib.legend.Legend at 0x3ff439e1f40>"
      ]
     },
     "execution_count": 12,
     "metadata": {},
     "output_type": "execute_result"
    },
    {
     "data": {
      "image/png": "[encoded data removed]",
      "text/plain": [
       "<Figure size 432x288 with 1 Axes>"
      ]
     },
     "metadata": {
      "needs_background": "light"
     },
     "output_type": "display_data"
    }
   ],
   "source": [
    "#Create a bar chart to show the default rates by Credit Program (TRANSACTION_CATEGORY)\n",
    "defaults_by_credit_program = cust_pd.groupby(['TRANSACTION_CATEGORY','IS_DEFAULT']).size()\n",
    "percentages = defaults_by_credit_program.groupby(level=0).apply(lambda x:100 * x / float(x.sum()))\n",
    "percentages.unstack().plot(kind='bar',stacked=True,color=['blue','red'],grid=False).legend(bbox_to_anchor=(1.2, 0.5))"
   ]
  },
  {
   "cell_type": "markdown",
   "metadata": {},
   "source": [
    "The top three credit programs with the highest default rate are New Car(89.7%), Used Car(60.6%) and Retraining(58.5%). However, all undeclared credit programs by the lendees belong to `OTHER` category in the dataset.  "
   ]
  },
  {
   "cell_type": "markdown",
   "metadata": {},
   "source": [
    "\n",
    "### Default by State Border\n",
    "\n",
    "In case IS_STATE_BORDER is set to YES, accounts/businesses are expanded to multiple states. It also signifies the scale of the business, assuming that mulit-state businesses are larger.  "
   ]
  },
  {
   "cell_type": "code",
   "execution_count": 13,
   "metadata": {
    "scrolled": false
   },
   "outputs": [
    {
     "data": {
      "text/plain": [
       "<matplotlib.legend.Legend at 0x3ff3b8963a0>"
      ]
     },
     "execution_count": 13,
     "metadata": {},
     "output_type": "execute_result"
    },
    {
     "data": {
      "image/png": "[encoded data removed]",
      "text/plain": [
       "<Figure size 432x288 with 1 Axes>"
      ]
     },
     "metadata": {},
     "output_type": "display_data"
    }
   ],
   "source": [
    "# Pie chart to show percentage of businesses in single vs multiple states\n",
    "cust_pd.IS_STATE_BORDER.value_counts().plot(kind='pie',autopct='%1.0f%%').legend(bbox_to_anchor=(1.2, 0.5))"
   ]
  },
  {
   "cell_type": "code",
   "execution_count": 14,
   "metadata": {},
   "outputs": [
    {
     "data": {
      "text/plain": [
       "<matplotlib.legend.Legend at 0x3ff3b80ef40>"
      ]
     },
     "execution_count": 14,
     "metadata": {},
     "output_type": "execute_result"
    },
    {
     "data": {
      "image/png": "[encoded data removed]",
      "text/plain": [
       "<Figure size 432x288 with 1 Axes>"
      ]
     },
     "metadata": {
      "needs_background": "light"
     },
     "output_type": "display_data"
    }
   ],
   "source": [
    "#Bar chart to compare default rates based on if an account expands across state borders\n",
    "defaults_by_xborder = cust_pd.groupby(['IS_STATE_BORDER','IS_DEFAULT']).size()\n",
    "percentages = defaults_by_xborder.groupby(level=0).apply(lambda x:100 * x / float(x.sum()))\n",
    "percentages.unstack().plot(kind='bar',stacked=True,  color=['blue','red'], grid=False).legend(bbox_to_anchor=(1.2, 0.5))"
   ]
  },
  {
   "cell_type": "markdown",
   "metadata": {},
   "source": [
    "Fromt the visual above, we can infer that the larger scale businesses have a lower chance of default. "
   ]
  },
  {
   "cell_type": "markdown",
   "metadata": {},
   "source": [
    "### Will a customer still default with a co-applicant? \n",
    "Examination on the effects on default of having a co-applicant"
   ]
  },
  {
   "cell_type": "code",
   "execution_count": 15,
   "metadata": {
    "scrolled": true
   },
   "outputs": [
    {
     "data": {
      "text/plain": [
       "<matplotlib.legend.Legend at 0x3ff3b8bf820>"
      ]
     },
     "execution_count": 15,
     "metadata": {},
     "output_type": "execute_result"
    },
    {
     "data": {
      "image/png": "[encoded data removed]",
      "text/plain": [
       "<Figure size 432x288 with 1 Axes>"
      ]
     },
     "metadata": {
      "needs_background": "light"
     },
     "output_type": "display_data"
    }
   ],
   "source": [
    "#Bar chart looking at the default rates when having and not having a co-applicant\n",
    "defaults_by_co_applicant = cust_pd.groupby(['HAS_CO_APPLICANT','IS_DEFAULT']).size()\n",
    "percentages = defaults_by_co_applicant.groupby(level=0).apply(lambda x:100 * x / float(x.sum()))\n",
    "percentages.unstack().plot(kind='bar',stacked=True,  color=['blue','red'], grid=False).legend(bbox_to_anchor=(1.2, 0.5))"
   ]
  },
  {
   "cell_type": "markdown",
   "metadata": {},
   "source": [
    "From bar chart above we can see that HAS_CO_APPLICANT feature has negligible impact on the default rate.  "
   ]
  },
  {
   "cell_type": "markdown",
   "metadata": {},
   "source": [
    "### Does credit history play a role in the default rate?\n",
    "\n",
    "Examination into the impact of a customer's credit history on the default rate. "
   ]
  },
  {
   "cell_type": "code",
   "execution_count": 16,
   "metadata": {},
   "outputs": [
    {
     "data": {
      "text/plain": [
       "<AxesSubplot:title={'center':'CREDIT_HISTORY'}>"
      ]
     },
     "execution_count": 16,
     "metadata": {},
     "output_type": "execute_result"
    },
    {
     "data": {
      "image/png": "[encoded data removed]",
      "text/plain": [
       "<Figure size 432x288 with 1 Axes>"
      ]
     },
     "metadata": {
      "needs_background": "light"
     },
     "output_type": "display_data"
    }
   ],
   "source": [
    "# Bar chart of the types of credit history for each account, based on prior payment history\n",
    "cust_pd.CREDIT_HISTORY.value_counts().plot(kind='bar', title='CREDIT_HISTORY')"
   ]
  },
  {
   "cell_type": "code",
   "execution_count": 17,
   "metadata": {
    "scrolled": true
   },
   "outputs": [
    {
     "data": {
      "text/plain": [
       "<matplotlib.legend.Legend at 0x3ff3b719460>"
      ]
     },
     "execution_count": 17,
     "metadata": {},
     "output_type": "execute_result"
    },
    {
     "data": {
      "image/png": "[encoded data removed]",
      "text/plain": [
       "<Figure size 432x288 with 1 Axes>"
      ]
     },
     "metadata": {
      "needs_background": "light"
     },
     "output_type": "display_data"
    }
   ],
   "source": [
    "# Stack bar chart showing the current default percentages for accounts based on their past payment history\n",
    "defaults_by_history = cust_pd.groupby(['CREDIT_HISTORY','IS_DEFAULT']).size()\n",
    "percentages = defaults_by_history.groupby(level=0).apply(lambda x:100 * x / float(x.sum()))\n",
    "percentages.unstack().plot(kind='bar',stacked=True,color=['blue','red'],grid=False).legend(bbox_to_anchor=(1.2, 0.5))"
   ]
  },
  {
   "cell_type": "markdown",
   "metadata": {},
   "source": [
    "From the visual above we observe that lendees with prior payment problems have a higher likelihood of default, as well as those who are labeled critical accounts.  "
   ]
  },
  {
   "cell_type": "markdown",
   "metadata": {},
   "source": [
    "### Numerical features - EMI_TENURE, TRANSACTION_AMOUNT, NUMBER_CREDITS, RFM_SCORE\n",
    "\n",
    "The dataset has more categorical features than numerical ones overall as seen above. Below we will visualize the numerical variables and find out the meaning and relationships of the features, such as - EMI_TENURE, TRANSACTION_AMOUNT, NUMBER_CREDITS, RFM_SCORE, with the Target Variable (IS_DEFAULT). "
   ]
  },
  {
   "cell_type": "code",
   "execution_count": 18,
   "metadata": {},
   "outputs": [
    {
     "data": {
      "text/plain": [
       "<seaborn.axisgrid.PairGrid at 0x3ff3b6a01c0>"
      ]
     },
     "execution_count": 18,
     "metadata": {},
     "output_type": "execute_result"
    },
    {
     "data": {
      "image/png": "[encoded data removed]",
      "text/plain": [
       "<Figure size 785.375x720 with 20 Axes>"
      ]
     },
     "metadata": {
      "needs_background": "light"
     },
     "output_type": "display_data"
    }
   ],
   "source": [
    "# Create a pair plot of numerical variables with the default variable\n",
    "sns.pairplot(cust_pd, hue=\"IS_DEFAULT\")"
   ]
  },
  {
   "cell_type": "markdown",
   "metadata": {},
   "source": [
    "* `pairplot` is a useful method to identify trends for further analysis. It appears that higher EMI_TENURE slightly increases the chances of default.  EMI stands for equated monthy installement."
   ]
  },
  {
   "cell_type": "markdown",
   "metadata": {},
   "source": [
    "## Data preparation\n",
    "\n",
    "In this section, we will get the data ready for training and evaluating the model by transforming features using popular techniques such as normalization, one-hot encoding, label encoding etc. "
   ]
  },
  {
   "cell_type": "code",
   "execution_count": 19,
   "metadata": {},
   "outputs": [
    {
     "data": {
      "text/html": [
       "<div>\n",
       "<style scoped>\n",
       "    .dataframe tbody tr th:only-of-type {\n",
       "        vertical-align: middle;\n",
       "    }\n",
       "\n",
       "    .dataframe tbody tr th {\n",
       "        vertical-align: top;\n",
       "    }\n",
       "\n",
       "    .dataframe thead th {\n",
       "        text-align: right;\n",
       "    }\n",
       "</style>\n",
       "<table border=\"1\" class=\"dataframe\">\n",
       "  <thead>\n",
       "    <tr style=\"text-align: right;\">\n",
       "      <th></th>\n",
       "      <th>EMI_TENURE</th>\n",
       "      <th>CREDIT_HISTORY</th>\n",
       "      <th>TRANSACTION_CATEGORY</th>\n",
       "      <th>TRANSACTION_AMOUNT</th>\n",
       "      <th>ACCOUNT_TYPE</th>\n",
       "      <th>ACCOUNT_AGE</th>\n",
       "      <th>STATE</th>\n",
       "      <th>IS_URBAN</th>\n",
       "      <th>IS_STATE_BORDER</th>\n",
       "      <th>HAS_CO_APPLICANT</th>\n",
       "      <th>HAS_GUARANTOR</th>\n",
       "      <th>OWN_REAL_ESTATE</th>\n",
       "      <th>OTHER_INSTALMENT_PLAN</th>\n",
       "      <th>OWN_RESIDENCE</th>\n",
       "      <th>NUMBER_CREDITS</th>\n",
       "      <th>RFM_SCORE</th>\n",
       "      <th>OWN_CAR</th>\n",
       "      <th>SHIP_INTERNATIONAL</th>\n",
       "      <th>IS_DEFAULT</th>\n",
       "    </tr>\n",
       "  </thead>\n",
       "  <tbody>\n",
       "    <tr>\n",
       "      <th>0</th>\n",
       "      <td>77</td>\n",
       "      <td>EXISTING CREDITS PAID BACK</td>\n",
       "      <td>EDUCATION</td>\n",
       "      <td>27630</td>\n",
       "      <td>UNKNOWN/NONE</td>\n",
       "      <td>above 7 YRS</td>\n",
       "      <td>CT</td>\n",
       "      <td>NO</td>\n",
       "      <td>YES</td>\n",
       "      <td>YES</td>\n",
       "      <td>YES</td>\n",
       "      <td>NO</td>\n",
       "      <td>YES</td>\n",
       "      <td>NO</td>\n",
       "      <td>0</td>\n",
       "      <td>4</td>\n",
       "      <td>NO</td>\n",
       "      <td>NO</td>\n",
       "      <td>No</td>\n",
       "    </tr>\n",
       "    <tr>\n",
       "      <th>1</th>\n",
       "      <td>119</td>\n",
       "      <td>EXISTING CREDITS PAID BACK</td>\n",
       "      <td>ELECTRONICS</td>\n",
       "      <td>31314</td>\n",
       "      <td>above 1000 K USD</td>\n",
       "      <td>4 to 7 YRS</td>\n",
       "      <td>CT</td>\n",
       "      <td>YES</td>\n",
       "      <td>YES</td>\n",
       "      <td>YES</td>\n",
       "      <td>YES</td>\n",
       "      <td>NO</td>\n",
       "      <td>NO</td>\n",
       "      <td>YES</td>\n",
       "      <td>0</td>\n",
       "      <td>3</td>\n",
       "      <td>YES</td>\n",
       "      <td>YES</td>\n",
       "      <td>No</td>\n",
       "    </tr>\n",
       "    <tr>\n",
       "      <th>2</th>\n",
       "      <td>84</td>\n",
       "      <td>EXISTING CREDITS PAID BACK</td>\n",
       "      <td>FURNITURE</td>\n",
       "      <td>27630</td>\n",
       "      <td>above 1000 K USD</td>\n",
       "      <td>4 to 7 YRS</td>\n",
       "      <td>PA</td>\n",
       "      <td>NO</td>\n",
       "      <td>NO</td>\n",
       "      <td>YES</td>\n",
       "      <td>YES</td>\n",
       "      <td>YES</td>\n",
       "      <td>NO</td>\n",
       "      <td>YES</td>\n",
       "      <td>0</td>\n",
       "      <td>3</td>\n",
       "      <td>YES</td>\n",
       "      <td>YES</td>\n",
       "      <td>No</td>\n",
       "    </tr>\n",
       "    <tr>\n",
       "      <th>3</th>\n",
       "      <td>119</td>\n",
       "      <td>DELAY IN PAST</td>\n",
       "      <td>FURNITURE</td>\n",
       "      <td>33156</td>\n",
       "      <td>above 1000 K USD</td>\n",
       "      <td>up to 1 YR</td>\n",
       "      <td>PA</td>\n",
       "      <td>YES</td>\n",
       "      <td>NO</td>\n",
       "      <td>YES</td>\n",
       "      <td>NO</td>\n",
       "      <td>NO</td>\n",
       "      <td>NO</td>\n",
       "      <td>YES</td>\n",
       "      <td>0</td>\n",
       "      <td>3</td>\n",
       "      <td>NO</td>\n",
       "      <td>NO</td>\n",
       "      <td>Yes</td>\n",
       "    </tr>\n",
       "    <tr>\n",
       "      <th>4</th>\n",
       "      <td>105</td>\n",
       "      <td>DELAY IN PAST</td>\n",
       "      <td>FURNITURE</td>\n",
       "      <td>23946</td>\n",
       "      <td>above 1000 K USD</td>\n",
       "      <td>up to 1 YR</td>\n",
       "      <td>CT</td>\n",
       "      <td>NO</td>\n",
       "      <td>YES</td>\n",
       "      <td>YES</td>\n",
       "      <td>YES</td>\n",
       "      <td>YES</td>\n",
       "      <td>YES</td>\n",
       "      <td>NO</td>\n",
       "      <td>0</td>\n",
       "      <td>3</td>\n",
       "      <td>YES</td>\n",
       "      <td>YES</td>\n",
       "      <td>No</td>\n",
       "    </tr>\n",
       "  </tbody>\n",
       "</table>\n",
       "</div>"
      ],
      "text/plain": [
       "   EMI_TENURE              CREDIT_HISTORY TRANSACTION_CATEGORY  \\\n",
       "0          77  EXISTING CREDITS PAID BACK            EDUCATION   \n",
       "1         119  EXISTING CREDITS PAID BACK          ELECTRONICS   \n",
       "2          84  EXISTING CREDITS PAID BACK            FURNITURE   \n",
       "3         119               DELAY IN PAST            FURNITURE   \n",
       "4         105               DELAY IN PAST            FURNITURE   \n",
       "\n",
       "   TRANSACTION_AMOUNT      ACCOUNT_TYPE  ACCOUNT_AGE STATE IS_URBAN  \\\n",
       "0               27630      UNKNOWN/NONE  above 7 YRS    CT       NO   \n",
       "1               31314  above 1000 K USD   4 to 7 YRS    CT      YES   \n",
       "2               27630  above 1000 K USD   4 to 7 YRS    PA       NO   \n",
       "3               33156  above 1000 K USD   up to 1 YR    PA      YES   \n",
       "4               23946  above 1000 K USD   up to 1 YR    CT       NO   \n",
       "\n",
       "  IS_STATE_BORDER HAS_CO_APPLICANT HAS_GUARANTOR OWN_REAL_ESTATE  \\\n",
       "0             YES              YES           YES              NO   \n",
       "1             YES              YES           YES              NO   \n",
       "2              NO              YES           YES             YES   \n",
       "3              NO              YES            NO              NO   \n",
       "4             YES              YES           YES             YES   \n",
       "\n",
       "  OTHER_INSTALMENT_PLAN OWN_RESIDENCE  NUMBER_CREDITS  RFM_SCORE OWN_CAR  \\\n",
       "0                   YES            NO               0          4      NO   \n",
       "1                    NO           YES               0          3     YES   \n",
       "2                    NO           YES               0          3     YES   \n",
       "3                    NO           YES               0          3      NO   \n",
       "4                   YES            NO               0          3     YES   \n",
       "\n",
       "  SHIP_INTERNATIONAL IS_DEFAULT  \n",
       "0                 NO         No  \n",
       "1                YES         No  \n",
       "2                YES         No  \n",
       "3                 NO        Yes  \n",
       "4                YES         No  "
      ]
     },
     "execution_count": 19,
     "metadata": {},
     "output_type": "execute_result"
    }
   ],
   "source": [
    "# Quick preview of the dataset\n",
    "cust_pd = cust_pd_full\n",
    "cust_pd.head()\n"
   ]
  },
  {
   "cell_type": "markdown",
   "metadata": {},
   "source": [
    "### Split dataframe into Features and Labels\n",
    "Now we divide the cust_pd dataframe into cust_pd_X (features) and cust_pd_Y (labels)"
   ]
  },
  {
   "cell_type": "code",
   "execution_count": 20,
   "metadata": {},
   "outputs": [
    {
     "name": "stdout",
     "output_type": "stream",
     "text": [
      "cust_pd_X.shape= (10000000, 18) cust_pd_Y.shape= (10000000, 1)\n"
     ]
    }
   ],
   "source": [
    "# Spit the dataset into features and labels\n",
    "#Labels\n",
    "cust_pd_Y = cust_pd[['IS_DEFAULT']]\n",
    "#Features\n",
    "cust_pd_X = cust_pd.drop(['IS_DEFAULT'],axis=1)\n",
    "\n",
    "#See the shape of the Features and Labels\n",
    "print('cust_pd_X.shape=', cust_pd_X.shape, 'cust_pd_Y.shape=', cust_pd_Y.shape)\n"
   ]
  },
  {
   "cell_type": "markdown",
   "metadata": {},
   "source": [
    "### Transform Label\n",
    "\n",
    "Since the labels will be used during the training of the model, we need to transform categorical labels into numerical labels.   "
   ]
  },
  {
   "cell_type": "code",
   "execution_count": 21,
   "metadata": {},
   "outputs": [
    {
     "data": {
      "text/html": [
       "<div>\n",
       "<style scoped>\n",
       "    .dataframe tbody tr th:only-of-type {\n",
       "        vertical-align: middle;\n",
       "    }\n",
       "\n",
       "    .dataframe tbody tr th {\n",
       "        vertical-align: top;\n",
       "    }\n",
       "\n",
       "    .dataframe thead th {\n",
       "        text-align: right;\n",
       "    }\n",
       "</style>\n",
       "<table border=\"1\" class=\"dataframe\">\n",
       "  <thead>\n",
       "    <tr style=\"text-align: right;\">\n",
       "      <th></th>\n",
       "      <th>IS_DEFAULT</th>\n",
       "    </tr>\n",
       "  </thead>\n",
       "  <tbody>\n",
       "    <tr>\n",
       "      <th>0</th>\n",
       "      <td>No</td>\n",
       "    </tr>\n",
       "    <tr>\n",
       "      <th>1</th>\n",
       "      <td>No</td>\n",
       "    </tr>\n",
       "    <tr>\n",
       "      <th>2</th>\n",
       "      <td>No</td>\n",
       "    </tr>\n",
       "    <tr>\n",
       "      <th>3</th>\n",
       "      <td>Yes</td>\n",
       "    </tr>\n",
       "    <tr>\n",
       "      <th>4</th>\n",
       "      <td>No</td>\n",
       "    </tr>\n",
       "  </tbody>\n",
       "</table>\n",
       "</div>"
      ],
      "text/plain": [
       "  IS_DEFAULT\n",
       "0         No\n",
       "1         No\n",
       "2         No\n",
       "3        Yes\n",
       "4         No"
      ]
     },
     "execution_count": 21,
     "metadata": {},
     "output_type": "execute_result"
    }
   ],
   "source": [
    "# Preview the labels\n",
    "cust_pd_Y.head()"
   ]
  },
  {
   "cell_type": "code",
   "execution_count": 22,
   "metadata": {},
   "outputs": [
    {
     "data": {
      "text/html": [
       "<div>\n",
       "<style scoped>\n",
       "    .dataframe tbody tr th:only-of-type {\n",
       "        vertical-align: middle;\n",
       "    }\n",
       "\n",
       "    .dataframe tbody tr th {\n",
       "        vertical-align: top;\n",
       "    }\n",
       "\n",
       "    .dataframe thead th {\n",
       "        text-align: right;\n",
       "    }\n",
       "</style>\n",
       "<table border=\"1\" class=\"dataframe\">\n",
       "  <thead>\n",
       "    <tr style=\"text-align: right;\">\n",
       "      <th></th>\n",
       "      <th>IS_DEFAULT</th>\n",
       "    </tr>\n",
       "  </thead>\n",
       "  <tbody>\n",
       "    <tr>\n",
       "      <th>0</th>\n",
       "      <td>0</td>\n",
       "    </tr>\n",
       "    <tr>\n",
       "      <th>1</th>\n",
       "      <td>0</td>\n",
       "    </tr>\n",
       "    <tr>\n",
       "      <th>2</th>\n",
       "      <td>0</td>\n",
       "    </tr>\n",
       "    <tr>\n",
       "      <th>3</th>\n",
       "      <td>1</td>\n",
       "    </tr>\n",
       "    <tr>\n",
       "      <th>4</th>\n",
       "      <td>0</td>\n",
       "    </tr>\n",
       "  </tbody>\n",
       "</table>\n",
       "</div>"
      ],
      "text/plain": [
       "   IS_DEFAULT\n",
       "0           0\n",
       "1           0\n",
       "2           0\n",
       "3           1\n",
       "4           0"
      ]
     },
     "execution_count": 22,
     "metadata": {},
     "output_type": "execute_result"
    }
   ],
   "source": [
    "#`LabelEncoder` transformer will be used to encode the target labels below. \n",
    "le = LabelEncoder()\n",
    "cust_pd_Y['IS_DEFAULT'] = le.fit_transform(cust_pd_Y['IS_DEFAULT'])\n",
    "cust_pd_Y.head()"
   ]
  },
  {
   "cell_type": "markdown",
   "metadata": {},
   "source": [
    "### Transform Features\n",
    "Transform the features to be used in the model training. "
   ]
  },
  {
   "cell_type": "markdown",
   "metadata": {},
   "source": [
    "EMI_TENURE, NUMBER_CREDITS, TRANSACTION_AMOUNT, CREDIT_HISTORY_ALL CREDITS PAID BACK, CREDIT_HISTORY_CRITICAL ACCOUNT, CREDIT_HISTORY_DELAY IN PAST, CREDIT_HISTORY_EXISTING CREDITS PAID BACK, CREDIT_HISTORY_NONE TAKEN etc are some of the features which are being used here for the training and inferencing."
   ]
  },
  {
   "cell_type": "code",
   "execution_count": 23,
   "metadata": {},
   "outputs": [
    {
     "name": "stdout",
     "output_type": "stream",
     "text": [
      "features df shape =  (10000000, 18)\n"
     ]
    },
    {
     "data": {
      "text/html": [
       "<div>\n",
       "<style scoped>\n",
       "    .dataframe tbody tr th:only-of-type {\n",
       "        vertical-align: middle;\n",
       "    }\n",
       "\n",
       "    .dataframe tbody tr th {\n",
       "        vertical-align: top;\n",
       "    }\n",
       "\n",
       "    .dataframe thead th {\n",
       "        text-align: right;\n",
       "    }\n",
       "</style>\n",
       "<table border=\"1\" class=\"dataframe\">\n",
       "  <thead>\n",
       "    <tr style=\"text-align: right;\">\n",
       "      <th></th>\n",
       "      <th>EMI_TENURE</th>\n",
       "      <th>CREDIT_HISTORY</th>\n",
       "      <th>TRANSACTION_CATEGORY</th>\n",
       "      <th>TRANSACTION_AMOUNT</th>\n",
       "      <th>ACCOUNT_TYPE</th>\n",
       "      <th>ACCOUNT_AGE</th>\n",
       "      <th>STATE</th>\n",
       "      <th>IS_URBAN</th>\n",
       "      <th>IS_STATE_BORDER</th>\n",
       "      <th>HAS_CO_APPLICANT</th>\n",
       "      <th>HAS_GUARANTOR</th>\n",
       "      <th>OWN_REAL_ESTATE</th>\n",
       "      <th>OTHER_INSTALMENT_PLAN</th>\n",
       "      <th>OWN_RESIDENCE</th>\n",
       "      <th>NUMBER_CREDITS</th>\n",
       "      <th>RFM_SCORE</th>\n",
       "      <th>OWN_CAR</th>\n",
       "      <th>SHIP_INTERNATIONAL</th>\n",
       "    </tr>\n",
       "  </thead>\n",
       "  <tbody>\n",
       "    <tr>\n",
       "      <th>0</th>\n",
       "      <td>77</td>\n",
       "      <td>EXISTING CREDITS PAID BACK</td>\n",
       "      <td>EDUCATION</td>\n",
       "      <td>27630</td>\n",
       "      <td>UNKNOWN/NONE</td>\n",
       "      <td>above 7 YRS</td>\n",
       "      <td>CT</td>\n",
       "      <td>NO</td>\n",
       "      <td>YES</td>\n",
       "      <td>YES</td>\n",
       "      <td>YES</td>\n",
       "      <td>NO</td>\n",
       "      <td>YES</td>\n",
       "      <td>NO</td>\n",
       "      <td>0</td>\n",
       "      <td>4</td>\n",
       "      <td>NO</td>\n",
       "      <td>NO</td>\n",
       "    </tr>\n",
       "    <tr>\n",
       "      <th>1</th>\n",
       "      <td>119</td>\n",
       "      <td>EXISTING CREDITS PAID BACK</td>\n",
       "      <td>ELECTRONICS</td>\n",
       "      <td>31314</td>\n",
       "      <td>above 1000 K USD</td>\n",
       "      <td>4 to 7 YRS</td>\n",
       "      <td>CT</td>\n",
       "      <td>YES</td>\n",
       "      <td>YES</td>\n",
       "      <td>YES</td>\n",
       "      <td>YES</td>\n",
       "      <td>NO</td>\n",
       "      <td>NO</td>\n",
       "      <td>YES</td>\n",
       "      <td>0</td>\n",
       "      <td>3</td>\n",
       "      <td>YES</td>\n",
       "      <td>YES</td>\n",
       "    </tr>\n",
       "    <tr>\n",
       "      <th>2</th>\n",
       "      <td>84</td>\n",
       "      <td>EXISTING CREDITS PAID BACK</td>\n",
       "      <td>FURNITURE</td>\n",
       "      <td>27630</td>\n",
       "      <td>above 1000 K USD</td>\n",
       "      <td>4 to 7 YRS</td>\n",
       "      <td>PA</td>\n",
       "      <td>NO</td>\n",
       "      <td>NO</td>\n",
       "      <td>YES</td>\n",
       "      <td>YES</td>\n",
       "      <td>YES</td>\n",
       "      <td>NO</td>\n",
       "      <td>YES</td>\n",
       "      <td>0</td>\n",
       "      <td>3</td>\n",
       "      <td>YES</td>\n",
       "      <td>YES</td>\n",
       "    </tr>\n",
       "    <tr>\n",
       "      <th>3</th>\n",
       "      <td>119</td>\n",
       "      <td>DELAY IN PAST</td>\n",
       "      <td>FURNITURE</td>\n",
       "      <td>33156</td>\n",
       "      <td>above 1000 K USD</td>\n",
       "      <td>up to 1 YR</td>\n",
       "      <td>PA</td>\n",
       "      <td>YES</td>\n",
       "      <td>NO</td>\n",
       "      <td>YES</td>\n",
       "      <td>NO</td>\n",
       "      <td>NO</td>\n",
       "      <td>NO</td>\n",
       "      <td>YES</td>\n",
       "      <td>0</td>\n",
       "      <td>3</td>\n",
       "      <td>NO</td>\n",
       "      <td>NO</td>\n",
       "    </tr>\n",
       "    <tr>\n",
       "      <th>4</th>\n",
       "      <td>105</td>\n",
       "      <td>DELAY IN PAST</td>\n",
       "      <td>FURNITURE</td>\n",
       "      <td>23946</td>\n",
       "      <td>above 1000 K USD</td>\n",
       "      <td>up to 1 YR</td>\n",
       "      <td>CT</td>\n",
       "      <td>NO</td>\n",
       "      <td>YES</td>\n",
       "      <td>YES</td>\n",
       "      <td>YES</td>\n",
       "      <td>YES</td>\n",
       "      <td>YES</td>\n",
       "      <td>NO</td>\n",
       "      <td>0</td>\n",
       "      <td>3</td>\n",
       "      <td>YES</td>\n",
       "      <td>YES</td>\n",
       "    </tr>\n",
       "  </tbody>\n",
       "</table>\n",
       "</div>"
      ],
      "text/plain": [
       "   EMI_TENURE              CREDIT_HISTORY TRANSACTION_CATEGORY  \\\n",
       "0          77  EXISTING CREDITS PAID BACK            EDUCATION   \n",
       "1         119  EXISTING CREDITS PAID BACK          ELECTRONICS   \n",
       "2          84  EXISTING CREDITS PAID BACK            FURNITURE   \n",
       "3         119               DELAY IN PAST            FURNITURE   \n",
       "4         105               DELAY IN PAST            FURNITURE   \n",
       "\n",
       "   TRANSACTION_AMOUNT      ACCOUNT_TYPE  ACCOUNT_AGE STATE IS_URBAN  \\\n",
       "0               27630      UNKNOWN/NONE  above 7 YRS    CT       NO   \n",
       "1               31314  above 1000 K USD   4 to 7 YRS    CT      YES   \n",
       "2               27630  above 1000 K USD   4 to 7 YRS    PA       NO   \n",
       "3               33156  above 1000 K USD   up to 1 YR    PA      YES   \n",
       "4               23946  above 1000 K USD   up to 1 YR    CT       NO   \n",
       "\n",
       "  IS_STATE_BORDER HAS_CO_APPLICANT HAS_GUARANTOR OWN_REAL_ESTATE  \\\n",
       "0             YES              YES           YES              NO   \n",
       "1             YES              YES           YES              NO   \n",
       "2              NO              YES           YES             YES   \n",
       "3              NO              YES            NO              NO   \n",
       "4             YES              YES           YES             YES   \n",
       "\n",
       "  OTHER_INSTALMENT_PLAN OWN_RESIDENCE  NUMBER_CREDITS  RFM_SCORE OWN_CAR  \\\n",
       "0                   YES            NO               0          4      NO   \n",
       "1                    NO           YES               0          3     YES   \n",
       "2                    NO           YES               0          3     YES   \n",
       "3                    NO           YES               0          3      NO   \n",
       "4                   YES            NO               0          3     YES   \n",
       "\n",
       "  SHIP_INTERNATIONAL  \n",
       "0                 NO  \n",
       "1                YES  \n",
       "2                YES  \n",
       "3                 NO  \n",
       "4                YES  "
      ]
     },
     "execution_count": 23,
     "metadata": {},
     "output_type": "execute_result"
    }
   ],
   "source": [
    "# View of the features\n",
    "print('features df shape = ', cust_pd_X.shape)\n",
    "cust_pd_X.head()"
   ]
  },
  {
   "cell_type": "markdown",
   "metadata": {},
   "source": [
    "### One-hot encoding for categorical columns\n",
    "Categorical variables will be represented as binary vectors using One-hot encoding. "
   ]
  },
  {
   "cell_type": "code",
   "execution_count": 24,
   "metadata": {},
   "outputs": [
    {
     "data": {
      "text/html": [
       "<div>\n",
       "<style scoped>\n",
       "    .dataframe tbody tr th:only-of-type {\n",
       "        vertical-align: middle;\n",
       "    }\n",
       "\n",
       "    .dataframe tbody tr th {\n",
       "        vertical-align: top;\n",
       "    }\n",
       "\n",
       "    .dataframe thead th {\n",
       "        text-align: right;\n",
       "    }\n",
       "</style>\n",
       "<table border=\"1\" class=\"dataframe\">\n",
       "  <thead>\n",
       "    <tr style=\"text-align: right;\">\n",
       "      <th></th>\n",
       "      <th>EMI_TENURE</th>\n",
       "      <th>TRANSACTION_AMOUNT</th>\n",
       "      <th>NUMBER_CREDITS</th>\n",
       "      <th>CREDIT_HISTORY_ALL CREDITS PAID BACK</th>\n",
       "      <th>CREDIT_HISTORY_CRITICAL ACCOUNT</th>\n",
       "      <th>CREDIT_HISTORY_DELAY IN PAST</th>\n",
       "      <th>CREDIT_HISTORY_EXISTING CREDITS PAID BACK</th>\n",
       "      <th>CREDIT_HISTORY_NONE TAKEN</th>\n",
       "      <th>TRANSACTION_CATEGORY_EDUCATION</th>\n",
       "      <th>TRANSACTION_CATEGORY_ELECTRONICS</th>\n",
       "      <th>TRANSACTION_CATEGORY_FURNITURE</th>\n",
       "      <th>TRANSACTION_CATEGORY_NEW CAR</th>\n",
       "      <th>TRANSACTION_CATEGORY_OTHER</th>\n",
       "      <th>TRANSACTION_CATEGORY_RETRAINING</th>\n",
       "      <th>TRANSACTION_CATEGORY_USED CAR</th>\n",
       "      <th>ACCOUNT_TYPE_100 to 500 K USD</th>\n",
       "      <th>ACCOUNT_TYPE_500 to 1000 K USD</th>\n",
       "      <th>ACCOUNT_TYPE_UNKNOWN/NONE</th>\n",
       "      <th>ACCOUNT_TYPE_above 1000 K USD</th>\n",
       "      <th>ACCOUNT_TYPE_up to 100 K USD</th>\n",
       "      <th>ACCOUNT_AGE_1 to 4 YRS</th>\n",
       "      <th>ACCOUNT_AGE_4 to 7 YRS</th>\n",
       "      <th>ACCOUNT_AGE_TBD</th>\n",
       "      <th>ACCOUNT_AGE_above 7 YRS</th>\n",
       "      <th>ACCOUNT_AGE_up to 1 YR</th>\n",
       "      <th>STATE_CT</th>\n",
       "      <th>STATE_NJ</th>\n",
       "      <th>STATE_NY</th>\n",
       "      <th>STATE_PA</th>\n",
       "      <th>IS_URBAN_NO</th>\n",
       "      <th>IS_URBAN_YES</th>\n",
       "      <th>IS_STATE_BORDER_NO</th>\n",
       "      <th>IS_STATE_BORDER_YES</th>\n",
       "      <th>HAS_CO_APPLICANT_NO</th>\n",
       "      <th>HAS_CO_APPLICANT_YES</th>\n",
       "      <th>HAS_GUARANTOR_NO</th>\n",
       "      <th>HAS_GUARANTOR_YES</th>\n",
       "      <th>OWN_REAL_ESTATE_NO</th>\n",
       "      <th>OWN_REAL_ESTATE_YES</th>\n",
       "      <th>OTHER_INSTALMENT_PLAN_NO</th>\n",
       "      <th>OTHER_INSTALMENT_PLAN_YES</th>\n",
       "      <th>OWN_RESIDENCE_NO</th>\n",
       "      <th>OWN_RESIDENCE_YES</th>\n",
       "      <th>RFM_SCORE_1</th>\n",
       "      <th>RFM_SCORE_2</th>\n",
       "      <th>RFM_SCORE_3</th>\n",
       "      <th>RFM_SCORE_4</th>\n",
       "      <th>OWN_CAR_NO</th>\n",
       "      <th>OWN_CAR_YES</th>\n",
       "      <th>SHIP_INTERNATIONAL_NO</th>\n",
       "      <th>SHIP_INTERNATIONAL_YES</th>\n",
       "    </tr>\n",
       "  </thead>\n",
       "  <tbody>\n",
       "    <tr>\n",
       "      <th>0</th>\n",
       "      <td>77</td>\n",
       "      <td>27630</td>\n",
       "      <td>0</td>\n",
       "      <td>0</td>\n",
       "      <td>0</td>\n",
       "      <td>0</td>\n",
       "      <td>1</td>\n",
       "      <td>0</td>\n",
       "      <td>1</td>\n",
       "      <td>0</td>\n",
       "      <td>0</td>\n",
       "      <td>0</td>\n",
       "      <td>0</td>\n",
       "      <td>0</td>\n",
       "      <td>0</td>\n",
       "      <td>0</td>\n",
       "      <td>0</td>\n",
       "      <td>1</td>\n",
       "      <td>0</td>\n",
       "      <td>0</td>\n",
       "      <td>0</td>\n",
       "      <td>0</td>\n",
       "      <td>0</td>\n",
       "      <td>1</td>\n",
       "      <td>0</td>\n",
       "      <td>1</td>\n",
       "      <td>0</td>\n",
       "      <td>0</td>\n",
       "      <td>0</td>\n",
       "      <td>1</td>\n",
       "      <td>0</td>\n",
       "      <td>0</td>\n",
       "      <td>1</td>\n",
       "      <td>0</td>\n",
       "      <td>1</td>\n",
       "      <td>0</td>\n",
       "      <td>1</td>\n",
       "      <td>1</td>\n",
       "      <td>0</td>\n",
       "      <td>0</td>\n",
       "      <td>1</td>\n",
       "      <td>1</td>\n",
       "      <td>0</td>\n",
       "      <td>0</td>\n",
       "      <td>0</td>\n",
       "      <td>0</td>\n",
       "      <td>1</td>\n",
       "      <td>1</td>\n",
       "      <td>0</td>\n",
       "      <td>1</td>\n",
       "      <td>0</td>\n",
       "    </tr>\n",
       "    <tr>\n",
       "      <th>1</th>\n",
       "      <td>119</td>\n",
       "      <td>31314</td>\n",
       "      <td>0</td>\n",
       "      <td>0</td>\n",
       "      <td>0</td>\n",
       "      <td>0</td>\n",
       "      <td>1</td>\n",
       "      <td>0</td>\n",
       "      <td>0</td>\n",
       "      <td>1</td>\n",
       "      <td>0</td>\n",
       "      <td>0</td>\n",
       "      <td>0</td>\n",
       "      <td>0</td>\n",
       "      <td>0</td>\n",
       "      <td>0</td>\n",
       "      <td>0</td>\n",
       "      <td>0</td>\n",
       "      <td>1</td>\n",
       "      <td>0</td>\n",
       "      <td>0</td>\n",
       "      <td>1</td>\n",
       "      <td>0</td>\n",
       "      <td>0</td>\n",
       "      <td>0</td>\n",
       "      <td>1</td>\n",
       "      <td>0</td>\n",
       "      <td>0</td>\n",
       "      <td>0</td>\n",
       "      <td>0</td>\n",
       "      <td>1</td>\n",
       "      <td>0</td>\n",
       "      <td>1</td>\n",
       "      <td>0</td>\n",
       "      <td>1</td>\n",
       "      <td>0</td>\n",
       "      <td>1</td>\n",
       "      <td>1</td>\n",
       "      <td>0</td>\n",
       "      <td>1</td>\n",
       "      <td>0</td>\n",
       "      <td>0</td>\n",
       "      <td>1</td>\n",
       "      <td>0</td>\n",
       "      <td>0</td>\n",
       "      <td>1</td>\n",
       "      <td>0</td>\n",
       "      <td>0</td>\n",
       "      <td>1</td>\n",
       "      <td>0</td>\n",
       "      <td>1</td>\n",
       "    </tr>\n",
       "    <tr>\n",
       "      <th>2</th>\n",
       "      <td>84</td>\n",
       "      <td>27630</td>\n",
       "      <td>0</td>\n",
       "      <td>0</td>\n",
       "      <td>0</td>\n",
       "      <td>0</td>\n",
       "      <td>1</td>\n",
       "      <td>0</td>\n",
       "      <td>0</td>\n",
       "      <td>0</td>\n",
       "      <td>1</td>\n",
       "      <td>0</td>\n",
       "      <td>0</td>\n",
       "      <td>0</td>\n",
       "      <td>0</td>\n",
       "      <td>0</td>\n",
       "      <td>0</td>\n",
       "      <td>0</td>\n",
       "      <td>1</td>\n",
       "      <td>0</td>\n",
       "      <td>0</td>\n",
       "      <td>1</td>\n",
       "      <td>0</td>\n",
       "      <td>0</td>\n",
       "      <td>0</td>\n",
       "      <td>0</td>\n",
       "      <td>0</td>\n",
       "      <td>0</td>\n",
       "      <td>1</td>\n",
       "      <td>1</td>\n",
       "      <td>0</td>\n",
       "      <td>1</td>\n",
       "      <td>0</td>\n",
       "      <td>0</td>\n",
       "      <td>1</td>\n",
       "      <td>0</td>\n",
       "      <td>1</td>\n",
       "      <td>0</td>\n",
       "      <td>1</td>\n",
       "      <td>1</td>\n",
       "      <td>0</td>\n",
       "      <td>0</td>\n",
       "      <td>1</td>\n",
       "      <td>0</td>\n",
       "      <td>0</td>\n",
       "      <td>1</td>\n",
       "      <td>0</td>\n",
       "      <td>0</td>\n",
       "      <td>1</td>\n",
       "      <td>0</td>\n",
       "      <td>1</td>\n",
       "    </tr>\n",
       "    <tr>\n",
       "      <th>3</th>\n",
       "      <td>119</td>\n",
       "      <td>33156</td>\n",
       "      <td>0</td>\n",
       "      <td>0</td>\n",
       "      <td>0</td>\n",
       "      <td>1</td>\n",
       "      <td>0</td>\n",
       "      <td>0</td>\n",
       "      <td>0</td>\n",
       "      <td>0</td>\n",
       "      <td>1</td>\n",
       "      <td>0</td>\n",
       "      <td>0</td>\n",
       "      <td>0</td>\n",
       "      <td>0</td>\n",
       "      <td>0</td>\n",
       "      <td>0</td>\n",
       "      <td>0</td>\n",
       "      <td>1</td>\n",
       "      <td>0</td>\n",
       "      <td>0</td>\n",
       "      <td>0</td>\n",
       "      <td>0</td>\n",
       "      <td>0</td>\n",
       "      <td>1</td>\n",
       "      <td>0</td>\n",
       "      <td>0</td>\n",
       "      <td>0</td>\n",
       "      <td>1</td>\n",
       "      <td>0</td>\n",
       "      <td>1</td>\n",
       "      <td>1</td>\n",
       "      <td>0</td>\n",
       "      <td>0</td>\n",
       "      <td>1</td>\n",
       "      <td>1</td>\n",
       "      <td>0</td>\n",
       "      <td>1</td>\n",
       "      <td>0</td>\n",
       "      <td>1</td>\n",
       "      <td>0</td>\n",
       "      <td>0</td>\n",
       "      <td>1</td>\n",
       "      <td>0</td>\n",
       "      <td>0</td>\n",
       "      <td>1</td>\n",
       "      <td>0</td>\n",
       "      <td>1</td>\n",
       "      <td>0</td>\n",
       "      <td>1</td>\n",
       "      <td>0</td>\n",
       "    </tr>\n",
       "    <tr>\n",
       "      <th>4</th>\n",
       "      <td>105</td>\n",
       "      <td>23946</td>\n",
       "      <td>0</td>\n",
       "      <td>0</td>\n",
       "      <td>0</td>\n",
       "      <td>1</td>\n",
       "      <td>0</td>\n",
       "      <td>0</td>\n",
       "      <td>0</td>\n",
       "      <td>0</td>\n",
       "      <td>1</td>\n",
       "      <td>0</td>\n",
       "      <td>0</td>\n",
       "      <td>0</td>\n",
       "      <td>0</td>\n",
       "      <td>0</td>\n",
       "      <td>0</td>\n",
       "      <td>0</td>\n",
       "      <td>1</td>\n",
       "      <td>0</td>\n",
       "      <td>0</td>\n",
       "      <td>0</td>\n",
       "      <td>0</td>\n",
       "      <td>0</td>\n",
       "      <td>1</td>\n",
       "      <td>1</td>\n",
       "      <td>0</td>\n",
       "      <td>0</td>\n",
       "      <td>0</td>\n",
       "      <td>1</td>\n",
       "      <td>0</td>\n",
       "      <td>0</td>\n",
       "      <td>1</td>\n",
       "      <td>0</td>\n",
       "      <td>1</td>\n",
       "      <td>0</td>\n",
       "      <td>1</td>\n",
       "      <td>0</td>\n",
       "      <td>1</td>\n",
       "      <td>0</td>\n",
       "      <td>1</td>\n",
       "      <td>1</td>\n",
       "      <td>0</td>\n",
       "      <td>0</td>\n",
       "      <td>0</td>\n",
       "      <td>1</td>\n",
       "      <td>0</td>\n",
       "      <td>0</td>\n",
       "      <td>1</td>\n",
       "      <td>0</td>\n",
       "      <td>1</td>\n",
       "    </tr>\n",
       "  </tbody>\n",
       "</table>\n",
       "</div>"
      ],
      "text/plain": [
       "   EMI_TENURE  TRANSACTION_AMOUNT  NUMBER_CREDITS  \\\n",
       "0          77               27630               0   \n",
       "1         119               31314               0   \n",
       "2          84               27630               0   \n",
       "3         119               33156               0   \n",
       "4         105               23946               0   \n",
       "\n",
       "   CREDIT_HISTORY_ALL CREDITS PAID BACK  CREDIT_HISTORY_CRITICAL ACCOUNT  \\\n",
       "0                                     0                                0   \n",
       "1                                     0                                0   \n",
       "2                                     0                                0   \n",
       "3                                     0                                0   \n",
       "4                                     0                                0   \n",
       "\n",
       "   CREDIT_HISTORY_DELAY IN PAST  CREDIT_HISTORY_EXISTING CREDITS PAID BACK  \\\n",
       "0                             0                                          1   \n",
       "1                             0                                          1   \n",
       "2                             0                                          1   \n",
       "3                             1                                          0   \n",
       "4                             1                                          0   \n",
       "\n",
       "   CREDIT_HISTORY_NONE TAKEN  TRANSACTION_CATEGORY_EDUCATION  \\\n",
       "0                          0                               1   \n",
       "1                          0                               0   \n",
       "2                          0                               0   \n",
       "3                          0                               0   \n",
       "4                          0                               0   \n",
       "\n",
       "   TRANSACTION_CATEGORY_ELECTRONICS  TRANSACTION_CATEGORY_FURNITURE  \\\n",
       "0                                 0                               0   \n",
       "1                                 1                               0   \n",
       "2                                 0                               1   \n",
       "3                                 0                               1   \n",
       "4                                 0                               1   \n",
       "\n",
       "   TRANSACTION_CATEGORY_NEW CAR  TRANSACTION_CATEGORY_OTHER  \\\n",
       "0                             0                           0   \n",
       "1                             0                           0   \n",
       "2                             0                           0   \n",
       "3                             0                           0   \n",
       "4                             0                           0   \n",
       "\n",
       "   TRANSACTION_CATEGORY_RETRAINING  TRANSACTION_CATEGORY_USED CAR  \\\n",
       "0                                0                              0   \n",
       "1                                0                              0   \n",
       "2                                0                              0   \n",
       "3                                0                              0   \n",
       "4                                0                              0   \n",
       "\n",
       "   ACCOUNT_TYPE_100 to 500 K USD  ACCOUNT_TYPE_500 to 1000 K USD  \\\n",
       "0                              0                               0   \n",
       "1                              0                               0   \n",
       "2                              0                               0   \n",
       "3                              0                               0   \n",
       "4                              0                               0   \n",
       "\n",
       "   ACCOUNT_TYPE_UNKNOWN/NONE  ACCOUNT_TYPE_above 1000 K USD  \\\n",
       "0                          1                              0   \n",
       "1                          0                              1   \n",
       "2                          0                              1   \n",
       "3                          0                              1   \n",
       "4                          0                              1   \n",
       "\n",
       "   ACCOUNT_TYPE_up to 100 K USD  ACCOUNT_AGE_1 to 4 YRS  \\\n",
       "0                             0                       0   \n",
       "1                             0                       0   \n",
       "2                             0                       0   \n",
       "3                             0                       0   \n",
       "4                             0                       0   \n",
       "\n",
       "   ACCOUNT_AGE_4 to 7 YRS  ACCOUNT_AGE_TBD  ACCOUNT_AGE_above 7 YRS  \\\n",
       "0                       0                0                        1   \n",
       "1                       1                0                        0   \n",
       "2                       1                0                        0   \n",
       "3                       0                0                        0   \n",
       "4                       0                0                        0   \n",
       "\n",
       "   ACCOUNT_AGE_up to 1 YR  STATE_CT  STATE_NJ  STATE_NY  STATE_PA  \\\n",
       "0                       0         1         0         0         0   \n",
       "1                       0         1         0         0         0   \n",
       "2                       0         0         0         0         1   \n",
       "3                       1         0         0         0         1   \n",
       "4                       1         1         0         0         0   \n",
       "\n",
       "   IS_URBAN_NO  IS_URBAN_YES  IS_STATE_BORDER_NO  IS_STATE_BORDER_YES  \\\n",
       "0            1             0                   0                    1   \n",
       "1            0             1                   0                    1   \n",
       "2            1             0                   1                    0   \n",
       "3            0             1                   1                    0   \n",
       "4            1             0                   0                    1   \n",
       "\n",
       "   HAS_CO_APPLICANT_NO  HAS_CO_APPLICANT_YES  HAS_GUARANTOR_NO  \\\n",
       "0                    0                     1                 0   \n",
       "1                    0                     1                 0   \n",
       "2                    0                     1                 0   \n",
       "3                    0                     1                 1   \n",
       "4                    0                     1                 0   \n",
       "\n",
       "   HAS_GUARANTOR_YES  OWN_REAL_ESTATE_NO  OWN_REAL_ESTATE_YES  \\\n",
       "0                  1                   1                    0   \n",
       "1                  1                   1                    0   \n",
       "2                  1                   0                    1   \n",
       "3                  0                   1                    0   \n",
       "4                  1                   0                    1   \n",
       "\n",
       "   OTHER_INSTALMENT_PLAN_NO  OTHER_INSTALMENT_PLAN_YES  OWN_RESIDENCE_NO  \\\n",
       "0                         0                          1                 1   \n",
       "1                         1                          0                 0   \n",
       "2                         1                          0                 0   \n",
       "3                         1                          0                 0   \n",
       "4                         0                          1                 1   \n",
       "\n",
       "   OWN_RESIDENCE_YES  RFM_SCORE_1  RFM_SCORE_2  RFM_SCORE_3  RFM_SCORE_4  \\\n",
       "0                  0            0            0            0            1   \n",
       "1                  1            0            0            1            0   \n",
       "2                  1            0            0            1            0   \n",
       "3                  1            0            0            1            0   \n",
       "4                  0            0            0            1            0   \n",
       "\n",
       "   OWN_CAR_NO  OWN_CAR_YES  SHIP_INTERNATIONAL_NO  SHIP_INTERNATIONAL_YES  \n",
       "0           1            0                      1                       0  \n",
       "1           0            1                      0                       1  \n",
       "2           0            1                      0                       1  \n",
       "3           1            0                      1                       0  \n",
       "4           0            1                      0                       1  "
      ]
     },
     "execution_count": 24,
     "metadata": {},
     "output_type": "execute_result"
    }
   ],
   "source": [
    "# One-hot encoding\n",
    "categoricalColumns = ['CREDIT_HISTORY', 'TRANSACTION_CATEGORY', 'ACCOUNT_TYPE', 'ACCOUNT_AGE',\n",
    "                      'STATE', 'IS_URBAN', 'IS_STATE_BORDER', 'HAS_CO_APPLICANT', 'HAS_GUARANTOR',\n",
    "                      'OWN_REAL_ESTATE', 'OTHER_INSTALMENT_PLAN',\n",
    "                      'OWN_RESIDENCE', 'RFM_SCORE', 'OWN_CAR', 'SHIP_INTERNATIONAL']\n",
    "cust_pd_X = pd.get_dummies(cust_pd_X, columns=categoricalColumns)\n",
    "\n",
    "cust_pd_X.head()"
   ]
  },
  {
   "cell_type": "markdown",
   "metadata": {},
   "source": [
    "### Normalize Features\n",
    "\n",
    "Feature scaling is the one of the essential steps to build the best performing machine learning models. Here we are scaling the features using the normalization technique. Normalization helps to scale the features between 0 to 1.  "
   ]
  },
  {
   "cell_type": "code",
   "execution_count": 25,
   "metadata": {},
   "outputs": [
    {
     "data": {
      "text/html": [
       "<div>\n",
       "<style scoped>\n",
       "    .dataframe tbody tr th:only-of-type {\n",
       "        vertical-align: middle;\n",
       "    }\n",
       "\n",
       "    .dataframe tbody tr th {\n",
       "        vertical-align: top;\n",
       "    }\n",
       "\n",
       "    .dataframe thead th {\n",
       "        text-align: right;\n",
       "    }\n",
       "</style>\n",
       "<table border=\"1\" class=\"dataframe\">\n",
       "  <thead>\n",
       "    <tr style=\"text-align: right;\">\n",
       "      <th></th>\n",
       "      <th>EMI_TENURE</th>\n",
       "      <th>TRANSACTION_AMOUNT</th>\n",
       "      <th>NUMBER_CREDITS</th>\n",
       "      <th>CREDIT_HISTORY_ALL CREDITS PAID BACK</th>\n",
       "      <th>CREDIT_HISTORY_CRITICAL ACCOUNT</th>\n",
       "      <th>CREDIT_HISTORY_DELAY IN PAST</th>\n",
       "      <th>CREDIT_HISTORY_EXISTING CREDITS PAID BACK</th>\n",
       "      <th>CREDIT_HISTORY_NONE TAKEN</th>\n",
       "      <th>TRANSACTION_CATEGORY_EDUCATION</th>\n",
       "      <th>TRANSACTION_CATEGORY_ELECTRONICS</th>\n",
       "      <th>TRANSACTION_CATEGORY_FURNITURE</th>\n",
       "      <th>TRANSACTION_CATEGORY_NEW CAR</th>\n",
       "      <th>TRANSACTION_CATEGORY_OTHER</th>\n",
       "      <th>TRANSACTION_CATEGORY_RETRAINING</th>\n",
       "      <th>TRANSACTION_CATEGORY_USED CAR</th>\n",
       "      <th>ACCOUNT_TYPE_100 to 500 K USD</th>\n",
       "      <th>ACCOUNT_TYPE_500 to 1000 K USD</th>\n",
       "      <th>ACCOUNT_TYPE_UNKNOWN/NONE</th>\n",
       "      <th>ACCOUNT_TYPE_above 1000 K USD</th>\n",
       "      <th>ACCOUNT_TYPE_up to 100 K USD</th>\n",
       "      <th>ACCOUNT_AGE_1 to 4 YRS</th>\n",
       "      <th>ACCOUNT_AGE_4 to 7 YRS</th>\n",
       "      <th>ACCOUNT_AGE_TBD</th>\n",
       "      <th>ACCOUNT_AGE_above 7 YRS</th>\n",
       "      <th>ACCOUNT_AGE_up to 1 YR</th>\n",
       "      <th>STATE_CT</th>\n",
       "      <th>STATE_NJ</th>\n",
       "      <th>STATE_NY</th>\n",
       "      <th>STATE_PA</th>\n",
       "      <th>IS_URBAN_NO</th>\n",
       "      <th>IS_URBAN_YES</th>\n",
       "      <th>IS_STATE_BORDER_NO</th>\n",
       "      <th>IS_STATE_BORDER_YES</th>\n",
       "      <th>HAS_CO_APPLICANT_NO</th>\n",
       "      <th>HAS_CO_APPLICANT_YES</th>\n",
       "      <th>HAS_GUARANTOR_NO</th>\n",
       "      <th>HAS_GUARANTOR_YES</th>\n",
       "      <th>OWN_REAL_ESTATE_NO</th>\n",
       "      <th>OWN_REAL_ESTATE_YES</th>\n",
       "      <th>OTHER_INSTALMENT_PLAN_NO</th>\n",
       "      <th>OTHER_INSTALMENT_PLAN_YES</th>\n",
       "      <th>OWN_RESIDENCE_NO</th>\n",
       "      <th>OWN_RESIDENCE_YES</th>\n",
       "      <th>RFM_SCORE_1</th>\n",
       "      <th>RFM_SCORE_2</th>\n",
       "      <th>RFM_SCORE_3</th>\n",
       "      <th>RFM_SCORE_4</th>\n",
       "      <th>OWN_CAR_NO</th>\n",
       "      <th>OWN_CAR_YES</th>\n",
       "      <th>SHIP_INTERNATIONAL_NO</th>\n",
       "      <th>SHIP_INTERNATIONAL_YES</th>\n",
       "    </tr>\n",
       "  </thead>\n",
       "  <tbody>\n",
       "    <tr>\n",
       "      <th>0</th>\n",
       "      <td>0.027542</td>\n",
       "      <td>0.033533</td>\n",
       "      <td>0.0</td>\n",
       "      <td>0.0</td>\n",
       "      <td>0.0</td>\n",
       "      <td>0.000000</td>\n",
       "      <td>0.062595</td>\n",
       "      <td>0.0</td>\n",
       "      <td>0.062595</td>\n",
       "      <td>0.000000</td>\n",
       "      <td>0.000000</td>\n",
       "      <td>0.0</td>\n",
       "      <td>0.0</td>\n",
       "      <td>0.0</td>\n",
       "      <td>0.0</td>\n",
       "      <td>0.0</td>\n",
       "      <td>0.0</td>\n",
       "      <td>0.062595</td>\n",
       "      <td>0.000000</td>\n",
       "      <td>0.0</td>\n",
       "      <td>0.0</td>\n",
       "      <td>0.000000</td>\n",
       "      <td>0.0</td>\n",
       "      <td>0.062595</td>\n",
       "      <td>0.000000</td>\n",
       "      <td>0.062595</td>\n",
       "      <td>0.0</td>\n",
       "      <td>0.0</td>\n",
       "      <td>0.000000</td>\n",
       "      <td>0.062595</td>\n",
       "      <td>0.000000</td>\n",
       "      <td>0.000000</td>\n",
       "      <td>0.062595</td>\n",
       "      <td>0.0</td>\n",
       "      <td>0.062595</td>\n",
       "      <td>0.000000</td>\n",
       "      <td>0.062595</td>\n",
       "      <td>0.062595</td>\n",
       "      <td>0.000000</td>\n",
       "      <td>0.000000</td>\n",
       "      <td>0.062595</td>\n",
       "      <td>0.062595</td>\n",
       "      <td>0.000000</td>\n",
       "      <td>0.0</td>\n",
       "      <td>0.0</td>\n",
       "      <td>0.000000</td>\n",
       "      <td>0.062595</td>\n",
       "      <td>0.062595</td>\n",
       "      <td>0.000000</td>\n",
       "      <td>0.062595</td>\n",
       "      <td>0.000000</td>\n",
       "    </tr>\n",
       "    <tr>\n",
       "      <th>1</th>\n",
       "      <td>0.041751</td>\n",
       "      <td>0.037277</td>\n",
       "      <td>0.0</td>\n",
       "      <td>0.0</td>\n",
       "      <td>0.0</td>\n",
       "      <td>0.000000</td>\n",
       "      <td>0.061398</td>\n",
       "      <td>0.0</td>\n",
       "      <td>0.000000</td>\n",
       "      <td>0.061398</td>\n",
       "      <td>0.000000</td>\n",
       "      <td>0.0</td>\n",
       "      <td>0.0</td>\n",
       "      <td>0.0</td>\n",
       "      <td>0.0</td>\n",
       "      <td>0.0</td>\n",
       "      <td>0.0</td>\n",
       "      <td>0.000000</td>\n",
       "      <td>0.061398</td>\n",
       "      <td>0.0</td>\n",
       "      <td>0.0</td>\n",
       "      <td>0.061398</td>\n",
       "      <td>0.0</td>\n",
       "      <td>0.000000</td>\n",
       "      <td>0.000000</td>\n",
       "      <td>0.061398</td>\n",
       "      <td>0.0</td>\n",
       "      <td>0.0</td>\n",
       "      <td>0.000000</td>\n",
       "      <td>0.000000</td>\n",
       "      <td>0.061398</td>\n",
       "      <td>0.000000</td>\n",
       "      <td>0.061398</td>\n",
       "      <td>0.0</td>\n",
       "      <td>0.061398</td>\n",
       "      <td>0.000000</td>\n",
       "      <td>0.061398</td>\n",
       "      <td>0.061398</td>\n",
       "      <td>0.000000</td>\n",
       "      <td>0.061398</td>\n",
       "      <td>0.000000</td>\n",
       "      <td>0.000000</td>\n",
       "      <td>0.061398</td>\n",
       "      <td>0.0</td>\n",
       "      <td>0.0</td>\n",
       "      <td>0.061398</td>\n",
       "      <td>0.000000</td>\n",
       "      <td>0.000000</td>\n",
       "      <td>0.061398</td>\n",
       "      <td>0.000000</td>\n",
       "      <td>0.061398</td>\n",
       "    </tr>\n",
       "    <tr>\n",
       "      <th>2</th>\n",
       "      <td>0.029971</td>\n",
       "      <td>0.033449</td>\n",
       "      <td>0.0</td>\n",
       "      <td>0.0</td>\n",
       "      <td>0.0</td>\n",
       "      <td>0.000000</td>\n",
       "      <td>0.062439</td>\n",
       "      <td>0.0</td>\n",
       "      <td>0.000000</td>\n",
       "      <td>0.000000</td>\n",
       "      <td>0.062439</td>\n",
       "      <td>0.0</td>\n",
       "      <td>0.0</td>\n",
       "      <td>0.0</td>\n",
       "      <td>0.0</td>\n",
       "      <td>0.0</td>\n",
       "      <td>0.0</td>\n",
       "      <td>0.000000</td>\n",
       "      <td>0.062439</td>\n",
       "      <td>0.0</td>\n",
       "      <td>0.0</td>\n",
       "      <td>0.062439</td>\n",
       "      <td>0.0</td>\n",
       "      <td>0.000000</td>\n",
       "      <td>0.000000</td>\n",
       "      <td>0.000000</td>\n",
       "      <td>0.0</td>\n",
       "      <td>0.0</td>\n",
       "      <td>0.062439</td>\n",
       "      <td>0.062439</td>\n",
       "      <td>0.000000</td>\n",
       "      <td>0.062439</td>\n",
       "      <td>0.000000</td>\n",
       "      <td>0.0</td>\n",
       "      <td>0.062439</td>\n",
       "      <td>0.000000</td>\n",
       "      <td>0.062439</td>\n",
       "      <td>0.000000</td>\n",
       "      <td>0.062439</td>\n",
       "      <td>0.062439</td>\n",
       "      <td>0.000000</td>\n",
       "      <td>0.000000</td>\n",
       "      <td>0.062439</td>\n",
       "      <td>0.0</td>\n",
       "      <td>0.0</td>\n",
       "      <td>0.062439</td>\n",
       "      <td>0.000000</td>\n",
       "      <td>0.000000</td>\n",
       "      <td>0.062439</td>\n",
       "      <td>0.000000</td>\n",
       "      <td>0.062439</td>\n",
       "    </tr>\n",
       "    <tr>\n",
       "      <th>3</th>\n",
       "      <td>0.041659</td>\n",
       "      <td>0.039384</td>\n",
       "      <td>0.0</td>\n",
       "      <td>0.0</td>\n",
       "      <td>0.0</td>\n",
       "      <td>0.061264</td>\n",
       "      <td>0.000000</td>\n",
       "      <td>0.0</td>\n",
       "      <td>0.000000</td>\n",
       "      <td>0.000000</td>\n",
       "      <td>0.061264</td>\n",
       "      <td>0.0</td>\n",
       "      <td>0.0</td>\n",
       "      <td>0.0</td>\n",
       "      <td>0.0</td>\n",
       "      <td>0.0</td>\n",
       "      <td>0.0</td>\n",
       "      <td>0.000000</td>\n",
       "      <td>0.061264</td>\n",
       "      <td>0.0</td>\n",
       "      <td>0.0</td>\n",
       "      <td>0.000000</td>\n",
       "      <td>0.0</td>\n",
       "      <td>0.000000</td>\n",
       "      <td>0.061264</td>\n",
       "      <td>0.000000</td>\n",
       "      <td>0.0</td>\n",
       "      <td>0.0</td>\n",
       "      <td>0.061264</td>\n",
       "      <td>0.000000</td>\n",
       "      <td>0.061264</td>\n",
       "      <td>0.061264</td>\n",
       "      <td>0.000000</td>\n",
       "      <td>0.0</td>\n",
       "      <td>0.061264</td>\n",
       "      <td>0.061264</td>\n",
       "      <td>0.000000</td>\n",
       "      <td>0.061264</td>\n",
       "      <td>0.000000</td>\n",
       "      <td>0.061264</td>\n",
       "      <td>0.000000</td>\n",
       "      <td>0.000000</td>\n",
       "      <td>0.061264</td>\n",
       "      <td>0.0</td>\n",
       "      <td>0.0</td>\n",
       "      <td>0.061264</td>\n",
       "      <td>0.000000</td>\n",
       "      <td>0.061264</td>\n",
       "      <td>0.000000</td>\n",
       "      <td>0.061264</td>\n",
       "      <td>0.000000</td>\n",
       "    </tr>\n",
       "    <tr>\n",
       "      <th>4</th>\n",
       "      <td>0.037350</td>\n",
       "      <td>0.028902</td>\n",
       "      <td>0.0</td>\n",
       "      <td>0.0</td>\n",
       "      <td>0.0</td>\n",
       "      <td>0.062250</td>\n",
       "      <td>0.000000</td>\n",
       "      <td>0.0</td>\n",
       "      <td>0.000000</td>\n",
       "      <td>0.000000</td>\n",
       "      <td>0.062250</td>\n",
       "      <td>0.0</td>\n",
       "      <td>0.0</td>\n",
       "      <td>0.0</td>\n",
       "      <td>0.0</td>\n",
       "      <td>0.0</td>\n",
       "      <td>0.0</td>\n",
       "      <td>0.000000</td>\n",
       "      <td>0.062250</td>\n",
       "      <td>0.0</td>\n",
       "      <td>0.0</td>\n",
       "      <td>0.000000</td>\n",
       "      <td>0.0</td>\n",
       "      <td>0.000000</td>\n",
       "      <td>0.062250</td>\n",
       "      <td>0.062250</td>\n",
       "      <td>0.0</td>\n",
       "      <td>0.0</td>\n",
       "      <td>0.000000</td>\n",
       "      <td>0.062250</td>\n",
       "      <td>0.000000</td>\n",
       "      <td>0.000000</td>\n",
       "      <td>0.062250</td>\n",
       "      <td>0.0</td>\n",
       "      <td>0.062250</td>\n",
       "      <td>0.000000</td>\n",
       "      <td>0.062250</td>\n",
       "      <td>0.000000</td>\n",
       "      <td>0.062250</td>\n",
       "      <td>0.000000</td>\n",
       "      <td>0.062250</td>\n",
       "      <td>0.062250</td>\n",
       "      <td>0.000000</td>\n",
       "      <td>0.0</td>\n",
       "      <td>0.0</td>\n",
       "      <td>0.062250</td>\n",
       "      <td>0.000000</td>\n",
       "      <td>0.000000</td>\n",
       "      <td>0.062250</td>\n",
       "      <td>0.000000</td>\n",
       "      <td>0.062250</td>\n",
       "    </tr>\n",
       "  </tbody>\n",
       "</table>\n",
       "</div>"
      ],
      "text/plain": [
       "   EMI_TENURE  TRANSACTION_AMOUNT  NUMBER_CREDITS  \\\n",
       "0    0.027542            0.033533             0.0   \n",
       "1    0.041751            0.037277             0.0   \n",
       "2    0.029971            0.033449             0.0   \n",
       "3    0.041659            0.039384             0.0   \n",
       "4    0.037350            0.028902             0.0   \n",
       "\n",
       "   CREDIT_HISTORY_ALL CREDITS PAID BACK  CREDIT_HISTORY_CRITICAL ACCOUNT  \\\n",
       "0                                   0.0                              0.0   \n",
       "1                                   0.0                              0.0   \n",
       "2                                   0.0                              0.0   \n",
       "3                                   0.0                              0.0   \n",
       "4                                   0.0                              0.0   \n",
       "\n",
       "   CREDIT_HISTORY_DELAY IN PAST  CREDIT_HISTORY_EXISTING CREDITS PAID BACK  \\\n",
       "0                      0.000000                                   0.062595   \n",
       "1                      0.000000                                   0.061398   \n",
       "2                      0.000000                                   0.062439   \n",
       "3                      0.061264                                   0.000000   \n",
       "4                      0.062250                                   0.000000   \n",
       "\n",
       "   CREDIT_HISTORY_NONE TAKEN  TRANSACTION_CATEGORY_EDUCATION  \\\n",
       "0                        0.0                        0.062595   \n",
       "1                        0.0                        0.000000   \n",
       "2                        0.0                        0.000000   \n",
       "3                        0.0                        0.000000   \n",
       "4                        0.0                        0.000000   \n",
       "\n",
       "   TRANSACTION_CATEGORY_ELECTRONICS  TRANSACTION_CATEGORY_FURNITURE  \\\n",
       "0                          0.000000                        0.000000   \n",
       "1                          0.061398                        0.000000   \n",
       "2                          0.000000                        0.062439   \n",
       "3                          0.000000                        0.061264   \n",
       "4                          0.000000                        0.062250   \n",
       "\n",
       "   TRANSACTION_CATEGORY_NEW CAR  TRANSACTION_CATEGORY_OTHER  \\\n",
       "0                           0.0                         0.0   \n",
       "1                           0.0                         0.0   \n",
       "2                           0.0                         0.0   \n",
       "3                           0.0                         0.0   \n",
       "4                           0.0                         0.0   \n",
       "\n",
       "   TRANSACTION_CATEGORY_RETRAINING  TRANSACTION_CATEGORY_USED CAR  \\\n",
       "0                              0.0                            0.0   \n",
       "1                              0.0                            0.0   \n",
       "2                              0.0                            0.0   \n",
       "3                              0.0                            0.0   \n",
       "4                              0.0                            0.0   \n",
       "\n",
       "   ACCOUNT_TYPE_100 to 500 K USD  ACCOUNT_TYPE_500 to 1000 K USD  \\\n",
       "0                            0.0                             0.0   \n",
       "1                            0.0                             0.0   \n",
       "2                            0.0                             0.0   \n",
       "3                            0.0                             0.0   \n",
       "4                            0.0                             0.0   \n",
       "\n",
       "   ACCOUNT_TYPE_UNKNOWN/NONE  ACCOUNT_TYPE_above 1000 K USD  \\\n",
       "0                   0.062595                       0.000000   \n",
       "1                   0.000000                       0.061398   \n",
       "2                   0.000000                       0.062439   \n",
       "3                   0.000000                       0.061264   \n",
       "4                   0.000000                       0.062250   \n",
       "\n",
       "   ACCOUNT_TYPE_up to 100 K USD  ACCOUNT_AGE_1 to 4 YRS  \\\n",
       "0                           0.0                     0.0   \n",
       "1                           0.0                     0.0   \n",
       "2                           0.0                     0.0   \n",
       "3                           0.0                     0.0   \n",
       "4                           0.0                     0.0   \n",
       "\n",
       "   ACCOUNT_AGE_4 to 7 YRS  ACCOUNT_AGE_TBD  ACCOUNT_AGE_above 7 YRS  \\\n",
       "0                0.000000              0.0                 0.062595   \n",
       "1                0.061398              0.0                 0.000000   \n",
       "2                0.062439              0.0                 0.000000   \n",
       "3                0.000000              0.0                 0.000000   \n",
       "4                0.000000              0.0                 0.000000   \n",
       "\n",
       "   ACCOUNT_AGE_up to 1 YR  STATE_CT  STATE_NJ  STATE_NY  STATE_PA  \\\n",
       "0                0.000000  0.062595       0.0       0.0  0.000000   \n",
       "1                0.000000  0.061398       0.0       0.0  0.000000   \n",
       "2                0.000000  0.000000       0.0       0.0  0.062439   \n",
       "3                0.061264  0.000000       0.0       0.0  0.061264   \n",
       "4                0.062250  0.062250       0.0       0.0  0.000000   \n",
       "\n",
       "   IS_URBAN_NO  IS_URBAN_YES  IS_STATE_BORDER_NO  IS_STATE_BORDER_YES  \\\n",
       "0     0.062595      0.000000            0.000000             0.062595   \n",
       "1     0.000000      0.061398            0.000000             0.061398   \n",
       "2     0.062439      0.000000            0.062439             0.000000   \n",
       "3     0.000000      0.061264            0.061264             0.000000   \n",
       "4     0.062250      0.000000            0.000000             0.062250   \n",
       "\n",
       "   HAS_CO_APPLICANT_NO  HAS_CO_APPLICANT_YES  HAS_GUARANTOR_NO  \\\n",
       "0                  0.0              0.062595          0.000000   \n",
       "1                  0.0              0.061398          0.000000   \n",
       "2                  0.0              0.062439          0.000000   \n",
       "3                  0.0              0.061264          0.061264   \n",
       "4                  0.0              0.062250          0.000000   \n",
       "\n",
       "   HAS_GUARANTOR_YES  OWN_REAL_ESTATE_NO  OWN_REAL_ESTATE_YES  \\\n",
       "0           0.062595            0.062595             0.000000   \n",
       "1           0.061398            0.061398             0.000000   \n",
       "2           0.062439            0.000000             0.062439   \n",
       "3           0.000000            0.061264             0.000000   \n",
       "4           0.062250            0.000000             0.062250   \n",
       "\n",
       "   OTHER_INSTALMENT_PLAN_NO  OTHER_INSTALMENT_PLAN_YES  OWN_RESIDENCE_NO  \\\n",
       "0                  0.000000                   0.062595          0.062595   \n",
       "1                  0.061398                   0.000000          0.000000   \n",
       "2                  0.062439                   0.000000          0.000000   \n",
       "3                  0.061264                   0.000000          0.000000   \n",
       "4                  0.000000                   0.062250          0.062250   \n",
       "\n",
       "   OWN_RESIDENCE_YES  RFM_SCORE_1  RFM_SCORE_2  RFM_SCORE_3  RFM_SCORE_4  \\\n",
       "0           0.000000          0.0          0.0     0.000000     0.062595   \n",
       "1           0.061398          0.0          0.0     0.061398     0.000000   \n",
       "2           0.062439          0.0          0.0     0.062439     0.000000   \n",
       "3           0.061264          0.0          0.0     0.061264     0.000000   \n",
       "4           0.000000          0.0          0.0     0.062250     0.000000   \n",
       "\n",
       "   OWN_CAR_NO  OWN_CAR_YES  SHIP_INTERNATIONAL_NO  SHIP_INTERNATIONAL_YES  \n",
       "0    0.062595     0.000000               0.062595                0.000000  \n",
       "1    0.000000     0.061398               0.000000                0.061398  \n",
       "2    0.000000     0.062439               0.000000                0.062439  \n",
       "3    0.061264     0.000000               0.061264                0.000000  \n",
       "4    0.000000     0.062250               0.000000                0.062250  "
      ]
     },
     "execution_count": 25,
     "metadata": {},
     "output_type": "execute_result"
    }
   ],
   "source": [
    "# Normalize the variables\n",
    "min_max_scaler = MinMaxScaler()\n",
    "features = min_max_scaler.fit_transform(cust_pd_X)\n",
    "features = normalize(features, axis=1, norm='l1')\n",
    "\n",
    "cust_pd_X = pd.DataFrame(features,columns=cust_pd_X.columns)\n",
    "cust_pd_X.head()"
   ]
  },
  {
   "cell_type": "markdown",
   "metadata": {},
   "source": [
    "### Split training dataset\n",
    "\n",
    "We are splitting the dataset with 70:30 ratio for training and evaluating the model. "
   ]
  },
  {
   "cell_type": "code",
   "execution_count": 26,
   "metadata": {},
   "outputs": [
    {
     "name": "stdout",
     "output_type": "stream",
     "text": [
      "X_train.shape= (7000000, 51) Y_train.shape= (7000000, 1)\n",
      "X_test.shape= (3000000, 51) Y_test.shape= (3000000, 1)\n"
     ]
    }
   ],
   "source": [
    "# Split the dataset\n",
    "label    = cust_pd_Y.values\n",
    "features  = cust_pd_X.values\n",
    "\n",
    "label = np.reshape(label,(-1,1))\n",
    "X_train,X_test,y_train,y_test = \\\n",
    "       train_test_split(features, label, test_size=0.3, random_state=42, stratify=label)\n",
    "print('X_train.shape=', X_train.shape, 'Y_train.shape=', y_train.shape)\n",
    "print('X_test.shape=', X_test.shape, 'Y_test.shape=', y_test.shape)\n",
    "\n",
    "\n"
   ]
  },
  {
   "cell_type": "markdown",
   "metadata": {},
   "source": [
    "### Train using sklearn\n",
    "Now we will train our model using the `LogisticRegression` model for the classification problem."
   ]
  },
  {
   "cell_type": "code",
   "execution_count": 27,
   "metadata": {},
   "outputs": [],
   "source": [
    "# Create a new Logistic regression classifier object using LogisticRegression() from sklearn \n",
    "from sklearn.linear_model import LogisticRegression\n",
    "sklearn_lr = LogisticRegression()"
   ]
  },
  {
   "cell_type": "code",
   "execution_count": 28,
   "metadata": {
    "scrolled": true
   },
   "outputs": [
    {
     "data": {
      "text/plain": [
       "LogisticRegression()"
      ]
     },
     "execution_count": 28,
     "metadata": {},
     "output_type": "execute_result"
    }
   ],
   "source": [
    "# Training the LogisticRegression model\n",
    "sklearn_lr.fit(X_train, y_train)"
   ]
  },
  {
   "cell_type": "markdown",
   "metadata": {},
   "source": [
    "### Inferencing and Evaluating the model\n",
    "For evaluating the model, we have chosen `accuracy_score` metric here."
   ]
  },
  {
   "cell_type": "code",
   "execution_count": 29,
   "metadata": {},
   "outputs": [
    {
     "name": "stdout",
     "output_type": "stream",
     "text": [
      "sklearn ml accuracy score =  0.9597963333333334\n"
     ]
    }
   ],
   "source": [
    "# Inference and check the model accuracy\n",
    "sklearn_prediction = sklearn_lr.predict(X_test)\n",
    "print('sklearn ml accuracy score = ', accuracy_score(y_test, sklearn_prediction))"
   ]
  },
  {
   "cell_type": "markdown",
   "metadata": {},
   "source": [
    "Since the model achieves a reasonable accuracy score, it can be deployed in a production like or test environment for further validation. "
   ]
  },
  {
   "cell_type": "markdown",
   "metadata": {},
   "source": [
    "## Conclusion:\n",
    "\n",
    "Building a machine learning pipeline on IBM Z and LinuxONE is a seamless experience with the availability of the conda packages required for data visualizations, data preparation, training, evaluating the model and inferencing. To leverage Anaconda packages further on IBM Z and LinuxONE the installation guide can be found [here](https://docs.anaconda.com/anaconda/install/linux-s390x/)"
   ]
  },
  {
   "cell_type": "markdown",
   "metadata": {},
   "source": [
    "&copy; Copyright IBM Corporation 2018, 2021"
   ]
  }
 ],
 "metadata": {
  "kernelspec": {
   "display_name": "Python 3",
   "language": "python",
   "name": "python3"
  },
  "language_info": {
   "codemirror_mode": {
    "name": "ipython",
    "version": 3
   },
   "file_extension": ".py",
   "mimetype": "text/x-python",
   "name": "python",
   "nbconvert_exporter": "python",
   "pygments_lexer": "ipython3",
   "version": "3.9.5"
  }
 },
 "nbformat": 4,
 "nbformat_minor": 2
}